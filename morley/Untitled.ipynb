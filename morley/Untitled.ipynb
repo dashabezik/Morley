{
 "cells": [
  {
   "cell_type": "code",
   "execution_count": 47,
   "id": "04a4f5af",
   "metadata": {},
   "outputs": [],
   "source": [
    "import imutils\n",
    "from imutils import contours\n",
    "import scipy\n",
    "from scipy.spatial import distance as dist\n",
    "import cv2 as cv\n",
    "import numpy as np\n",
    "import matplotlib\n",
    "from matplotlib import pyplot as plt\n",
    "import pandas as pd\n",
    "from os import path, listdir\n",
    "import os, random\n",
    "import time\n",
    "import seaborn  as sns\n",
    "import gc\n",
    "import sys\n",
    "import datetime\n",
    "import csv\n",
    "import math\n",
    "from sklearn.linear_model import LinearRegression\n",
    "import matplotlib.patches as mpatches\n",
    "from collections import defaultdict\n",
    "import time"
   ]
  },
  {
   "cell_type": "code",
   "execution_count": 48,
   "id": "4688e8c4",
   "metadata": {},
   "outputs": [],
   "source": [
    "import tkinter as tk\n",
    "from functools import partial\n",
    "import gui\n",
    "\n",
    "\n",
    "\n",
    "def main():\n",
    "    window = tk.Tk()\n",
    "    window.title('Plants GUI')\n",
    "    window.geometry('900x600')\n",
    "\n",
    "    # gui.state['settings']['slider'] = tk.DoubleVar(value=1.0)\n",
    "    gui.set_state_variables(gui.state)\n",
    "    gui.state['settings']['slider'] = tk.IntVar(value=1.0)\n",
    "\n",
    "    # https://stackoverflow.com/a/54068050/1258041\n",
    "    try:\n",
    "        try:\n",
    "            window.tk.call('tk_getOpenFile', '-foobarbaz')\n",
    "        except tk.TclError:\n",
    "            pass\n",
    "\n",
    "        window.tk.call('set', '::tk::dialog::file::showHiddenBtn', '1')\n",
    "        window.tk.call('set', '::tk::dialog::file::showHiddenVar', '0')\n",
    "    except:\n",
    "        pass\n",
    "\n",
    "    files_frame = tk.Frame()\n",
    "\n",
    "    raw_dir_lbl = tk.Label(master=files_frame, text=\"No directory selected\", justify='left')\n",
    "    get_raw_dir_btn = tk.Button(master=files_frame, text=\"Select image directory\",\n",
    "        command=partial(gui.get_image_dirname, raw_dir_lbl), width=20)\n",
    "\n",
    "\n",
    "    get_raw_dir_btn.grid(column=0, row=0)  #pack(side=tk.LEFT, anchor=tk.E)\n",
    "    raw_dir_lbl.grid(column=1, row=0)  #pack(side=tk.LEFT, padx=15, anchor=tk.W)\n",
    "\n",
    "    template_lbl = tk.Label(master=files_frame, text=\"Template file not selected\", justify='left')\n",
    "    get_template_btn = tk.Button(master=files_frame, text=\"Select seed template\", command=partial(gui.get_template_file, template_lbl), width=20)\n",
    "\n",
    "    template_lbl.grid(row=1, column=1)\n",
    "    get_template_btn.grid(row=1, column=0)  #pack(side=tk.TOP)\n",
    "\n",
    "    out_dir_lbl = tk.Label(master=files_frame, text=\"Output directory: \" + gui.state['paths']['out_dir'], justify='left')\n",
    "    get_out_dir_btn = tk.Button(master=files_frame, text=\"Select output directory\",\n",
    "        command=partial(gui.get_out_dirname, out_dir_lbl), width=20)\n",
    "\n",
    "    get_out_dir_btn.grid(column=0, row=2)  #pack(side=tk.LEFT, anchor=tk.E)\n",
    "    out_dir_lbl.grid(column=1, row=2)  #pack(side=tk.LEFT, padx=15, anchor=tk.W)\n",
    "\n",
    "\n",
    "    files_frame.grid(column=0, row=0, columnspan=2, rowspan=3)\n",
    "\n",
    "    status_frame = tk.Frame()\n",
    "    status_frame.grid(column=2, row=0, rowspan=3)\n",
    "\n",
    "    \n",
    "    \n",
    "    raw_file_lbl = tk.Label(master=files_frame, text=\"No file selected\", justify='left')\n",
    "    get_raw_file_btn = tk.Button(master=files_frame, text=\"Select image file\",\n",
    "        command=partial(gui.get_file, raw_file_lbl), width=20)\n",
    "\n",
    "\n",
    "    get_raw_file_btn.grid(column=0, row=4)  #pack(side=tk.LEFT, anchor=tk.E)\n",
    "    raw_file_lbl.grid(column=1, row=4)  #pack(side=tk.LEFT, padx=15, anchor=tk.W)\n",
    "    \n",
    "    \n",
    "    \n",
    "    tweak_file_lbl = tk.Label(master=files_frame, text=\"Tweaking image\" , justify='left')\n",
    "    tweak_file_btn = tk.Button(master=files_frame, text=\"Tweak image\", command=partial(gui.tweak_image, window), width=20)\n",
    "    tweak_file_btn.grid(column=0, row=5)  #pack(side=tk.LEFT, anchor=tk.E)\n",
    "    tweak_file_lbl.grid(column=1, row=5)  #pack(side=tk.LEFT, padx=15, anchor=tk.W)\n",
    "    \n",
    "    \n",
    "    rotation_file_lbl = tk.Label(master=files_frame, text=\"Rotating image\" , justify='left')\n",
    "    rotation_file_btn = tk.Button(master=files_frame, text=\"Rotate image\", command=partial(gui.rotation, window), width=20)\n",
    "    rotation_file_btn.grid(column=0, row=6)  #pack(side=tk.LEFT, anchor=tk.E)\n",
    "    rotation_file_lbl.grid(column=1, row=6)  #pack(side=tk.LEFT, padx=15, anchor=tk.W)\n",
    "\n",
    "    window.mainloop()\n",
    "\n",
    "if __name__ == '__main__':\n",
    "    main()\n"
   ]
  },
  {
   "cell_type": "code",
   "execution_count": 40,
   "id": "97a98506",
   "metadata": {},
   "outputs": [
    {
     "name": "stdout",
     "output_type": "stream",
     "text": [
      "C:\\\n"
     ]
    },
    {
     "data": {
      "text/plain": [
       "'C:\\\\'"
      ]
     },
     "execution_count": 40,
     "metadata": {},
     "output_type": "execute_result"
    }
   ],
   "source": [
    "%cd /..\n",
    "%pwd"
   ]
  },
  {
   "cell_type": "code",
   "execution_count": 28,
   "id": "8fddf31b",
   "metadata": {},
   "outputs": [
    {
     "name": "stdout",
     "output_type": "stream",
     "text": [
      "C:\\Users\\dasha\\morley\n"
     ]
    },
    {
     "data": {
      "text/plain": [
       "'C:\\\\Users\\\\dasha\\\\morley'"
      ]
     },
     "execution_count": 28,
     "metadata": {},
     "output_type": "execute_result"
    }
   ],
   "source": [
    "%cd C:/Users/dasha/morley\n",
    "    \n",
    "%pwd"
   ]
  },
  {
   "cell_type": "code",
   "execution_count": 41,
   "id": "3dfbee44",
   "metadata": {},
   "outputs": [
    {
     "name": "stdout",
     "output_type": "stream",
     "text": [
      "Obtaining file:///C:/Users/dasha/morley\n",
      "Requirement already satisfied: pyteomics in c:\\users\\dasha\\anaconda3\\lib\\site-packages (from morley==0.0.2) (4.5.6)\n",
      "Requirement already satisfied: seaborn in c:\\users\\dasha\\anaconda3\\lib\\site-packages (from morley==0.0.2) (0.11.1)\n",
      "Requirement already satisfied: scipy in c:\\users\\dasha\\anaconda3\\lib\\site-packages (from morley==0.0.2) (1.6.2)\n",
      "Requirement already satisfied: scikit-learn in c:\\users\\dasha\\anaconda3\\lib\\site-packages (from morley==0.0.2) (0.24.1)\n",
      "Requirement already satisfied: opencv-python in c:\\users\\dasha\\anaconda3\\lib\\site-packages (from morley==0.0.2) (4.6.0.66)\n",
      "Requirement already satisfied: imutils in c:\\users\\dasha\\anaconda3\\lib\\site-packages (from morley==0.0.2) (0.5.4)\n",
      "Requirement already satisfied: numpy>=1.14.5 in c:\\users\\dasha\\anaconda3\\lib\\site-packages (from opencv-python->morley==0.0.2) (1.20.1)\n",
      "Requirement already satisfied: threadpoolctl>=2.0.0 in c:\\users\\dasha\\anaconda3\\lib\\site-packages (from scikit-learn->morley==0.0.2) (2.1.0)\n",
      "Requirement already satisfied: joblib>=0.11 in c:\\users\\dasha\\anaconda3\\lib\\site-packages (from scikit-learn->morley==0.0.2) (1.0.1)\n",
      "Requirement already satisfied: pandas>=0.23 in c:\\users\\dasha\\anaconda3\\lib\\site-packages (from seaborn->morley==0.0.2) (1.2.4)\n",
      "Requirement already satisfied: matplotlib>=2.2 in c:\\users\\dasha\\anaconda3\\lib\\site-packages (from seaborn->morley==0.0.2) (3.3.4)\n",
      "Requirement already satisfied: python-dateutil>=2.1 in c:\\users\\dasha\\anaconda3\\lib\\site-packages (from matplotlib>=2.2->seaborn->morley==0.0.2) (2.8.1)\n",
      "Requirement already satisfied: kiwisolver>=1.0.1 in c:\\users\\dasha\\anaconda3\\lib\\site-packages (from matplotlib>=2.2->seaborn->morley==0.0.2) (1.3.1)\n",
      "Requirement already satisfied: pillow>=6.2.0 in c:\\users\\dasha\\anaconda3\\lib\\site-packages (from matplotlib>=2.2->seaborn->morley==0.0.2) (8.2.0)\n",
      "Requirement already satisfied: cycler>=0.10 in c:\\users\\dasha\\anaconda3\\lib\\site-packages (from matplotlib>=2.2->seaborn->morley==0.0.2) (0.10.0)\n",
      "Requirement already satisfied: pyparsing!=2.0.4,!=2.1.2,!=2.1.6,>=2.0.3 in c:\\users\\dasha\\anaconda3\\lib\\site-packages (from matplotlib>=2.2->seaborn->morley==0.0.2) (2.4.7)\n",
      "Requirement already satisfied: six in c:\\users\\dasha\\anaconda3\\lib\\site-packages (from cycler>=0.10->matplotlib>=2.2->seaborn->morley==0.0.2) (1.15.0)\n",
      "Requirement already satisfied: pytz>=2017.3 in c:\\users\\dasha\\anaconda3\\lib\\site-packages (from pandas>=0.23->seaborn->morley==0.0.2) (2021.1)\n",
      "Installing collected packages: morley\n",
      "  Running setup.py develop for morley\n",
      "Successfully installed morley\n",
      "Note: you may need to restart the kernel to use updated packages.\n"
     ]
    }
   ],
   "source": [
    "pip install -e C:/Users/dasha/morley"
   ]
  },
  {
   "cell_type": "code",
   "execution_count": 78,
   "id": "61d7f5f8",
   "metadata": {
    "scrolled": true
   },
   "outputs": [],
   "source": [
    "!morley"
   ]
  },
  {
   "cell_type": "code",
   "execution_count": 91,
   "id": "f48878a0",
   "metadata": {},
   "outputs": [
    {
     "name": "stdout",
     "output_type": "stream",
     "text": [
      "C:\\Users\\dasha\\morley\\.git\n",
      "C:\\Users\\dasha\\morley\\.ipynb_checkpoints\n",
      "C:\\Users\\dasha\\morley\\build\n",
      "C:\\Users\\dasha\\morley\\dist\n",
      "C:\\Users\\dasha\\morley\\morley\n",
      "C:\\Users\\dasha\\morley\\morley.egg-info\n",
      "C:\\Users\\dasha\\morley\\photos\n",
      "C:\\Users\\dasha\\morley\\report\n",
      "C:\\Users\\dasha\\morley\\__pycache__\n"
     ]
    }
   ],
   "source": [
    "for f in os.scandir('C:\\\\Users\\dasha\\morley'):\n",
    "    if f.is_dir():\n",
    "        print (f.path)"
   ]
  },
  {
   "cell_type": "code",
   "execution_count": 95,
   "id": "846f7f09",
   "metadata": {},
   "outputs": [
    {
     "name": "stdout",
     "output_type": "stream",
     "text": [
      "C:\\Users\\dasha\\morley\\photos\n",
      "C:\\Users\\dasha\\morley\\photos\\4day\n",
      "C:\\Users\\dasha\\morley\\photos\\7day\n",
      "C:\\Users\\dasha\\morley\\photos\\template\n"
     ]
    }
   ],
   "source": [
    "for f in os.walk('C:\\\\Users\\dasha\\morley\\photos'):\n",
    "    print(f[0])"
   ]
  },
  {
   "cell_type": "code",
   "execution_count": 53,
   "id": "28793403",
   "metadata": {},
   "outputs": [
    {
     "data": {
      "text/plain": [
       "[5, 3, 160]"
      ]
     },
     "execution_count": 53,
     "metadata": {},
     "output_type": "execute_result"
    }
   ],
   "source": [
    "import tkinter as tk\n",
    "from functools import partial\n",
    "import gui\n",
    "\n",
    "def tk2int(var):\n",
    "    if type(var)==tk.IntVar:\n",
    "        var = int(var.get())\n",
    "    else:\n",
    "        var = int(var)\n",
    "    return var\n",
    "\n",
    "def get_state_values(param):\n",
    "    l=[]\n",
    "    if param=='settings':\n",
    "        l.append(2*tk2int(gui.state[param]['morph'])+1)\n",
    "        l.append(2*tk2int(gui.state[param]['gauss'])+1)\n",
    "        l.append(tk2int(gui.state[param]['canny_top']))\n",
    "    else:\n",
    "        for i in gui.state[param]:\n",
    "            l.append(tk2int(gui.state[param][i]))\n",
    "    return l\n",
    "\n",
    "get_state_values('settings')"
   ]
  },
  {
   "cell_type": "code",
   "execution_count": 119,
   "id": "e3bb8c41",
   "metadata": {},
   "outputs": [
    {
     "name": "stderr",
     "output_type": "stream",
     "text": [
      "python: can't open file 'setup.py': [Errno 2] No such file or directory\n"
     ]
    }
   ],
   "source": [
    "!python setup.py sdist bdist_wheel"
   ]
  },
  {
   "cell_type": "code",
   "execution_count": 55,
   "id": "16f533d2",
   "metadata": {},
   "outputs": [],
   "source": [
    "!morley --create-shortcut"
   ]
  },
  {
   "cell_type": "code",
   "execution_count": 62,
   "id": "c1ed1000",
   "metadata": {},
   "outputs": [],
   "source": [
    "import tkinter as tk\n",
    "import os\n",
    "window = tk.Tk()\n",
    "# path_to_icon =os.path.join(os.path.dirname(os.path.abspath(__file__)), 'filename_new_params.png') \n",
    "# window.tk.call('wm', 'iconphoto', window._w, tk.PhotoImage(file=path_to_icon))\n",
    "# Add image file\n",
    "# bg = tk.PhotoImage(file = path_to_icon)\n",
    "\n",
    "# Create Canvas\n",
    "canvas1 = tk.Canvas( window, width = 400,\n",
    "                 height = 400)\n",
    "\n",
    "canvas1.pack(fill = \"both\", expand = True)\n",
    "canvas1.grid"
   ]
  },
  {
   "cell_type": "code",
   "execution_count": 71,
   "id": "0573c03d",
   "metadata": {},
   "outputs": [
    {
     "ename": "NameError",
     "evalue": "name '__file__' is not defined",
     "output_type": "error",
     "traceback": [
      "\u001b[1;31m---------------------------------------------------------------------------\u001b[0m",
      "\u001b[1;31mNameError\u001b[0m                                 Traceback (most recent call last)",
      "\u001b[1;32m<ipython-input-71-6ac5bbc5b8a6>\u001b[0m in \u001b[0;36m<module>\u001b[1;34m\u001b[0m\n\u001b[1;32m----> 1\u001b[1;33m \u001b[0mos\u001b[0m\u001b[1;33m.\u001b[0m\u001b[0mpath\u001b[0m\u001b[1;33m.\u001b[0m\u001b[0mjoin\u001b[0m\u001b[1;33m(\u001b[0m\u001b[0mos\u001b[0m\u001b[1;33m.\u001b[0m\u001b[0mpath\u001b[0m\u001b[1;33m.\u001b[0m\u001b[0mdirname\u001b[0m\u001b[1;33m(\u001b[0m\u001b[0mos\u001b[0m\u001b[1;33m.\u001b[0m\u001b[0mpath\u001b[0m\u001b[1;33m.\u001b[0m\u001b[0mdirname\u001b[0m\u001b[1;33m(\u001b[0m\u001b[0mos\u001b[0m\u001b[1;33m.\u001b[0m\u001b[0mpath\u001b[0m\u001b[1;33m.\u001b[0m\u001b[0mabspath\u001b[0m\u001b[1;33m(\u001b[0m\u001b[0m__file__\u001b[0m\u001b[1;33m)\u001b[0m\u001b[1;33m)\u001b[0m\u001b[1;33m)\u001b[0m\u001b[1;33m,\u001b[0m \u001b[1;34m'setup.py'\u001b[0m\u001b[1;33m)\u001b[0m\u001b[1;33m\u001b[0m\u001b[1;33m\u001b[0m\u001b[0m\n\u001b[0m",
      "\u001b[1;31mNameError\u001b[0m: name '__file__' is not defined"
     ]
    }
   ],
   "source": [
    "os.path.join(os.path.dirname(os.path.dirname(os.path.abspath(__file__))), 'setup.py')"
   ]
  },
  {
   "cell_type": "code",
   "execution_count": 70,
   "id": "e682f1d3",
   "metadata": {},
   "outputs": [
    {
     "ename": "ImportError",
     "evalue": "attempted relative import with no known parent package",
     "output_type": "error",
     "traceback": [
      "\u001b[1;31m---------------------------------------------------------------------------\u001b[0m",
      "\u001b[1;31mImportError\u001b[0m                               Traceback (most recent call last)",
      "\u001b[1;32m<ipython-input-70-bb83ad7f6877>\u001b[0m in \u001b[0;36m<module>\u001b[1;34m\u001b[0m\n\u001b[1;32m----> 1\u001b[1;33m \u001b[1;32mfrom\u001b[0m \u001b[1;33m.\u001b[0m\u001b[1;33m.\u001b[0m \u001b[1;32mimport\u001b[0m \u001b[0msetup\u001b[0m\u001b[1;33m\u001b[0m\u001b[1;33m\u001b[0m\u001b[0m\n\u001b[0m",
      "\u001b[1;31mImportError\u001b[0m: attempted relative import with no known parent package"
     ]
    }
   ],
   "source": [
    "from .. import setup"
   ]
  },
  {
   "cell_type": "code",
   "execution_count": 113,
   "id": "911c3d5a",
   "metadata": {},
   "outputs": [
    {
     "ename": "ValueError",
     "evalue": "Invalid RGBA argument: 'Set2'",
     "output_type": "error",
     "traceback": [
      "\u001b[1;31m---------------------------------------------------------------------------\u001b[0m",
      "\u001b[1;31mValueError\u001b[0m                                Traceback (most recent call last)",
      "\u001b[1;32m<ipython-input-113-81e0ff7211b1>\u001b[0m in \u001b[0;36m<module>\u001b[1;34m\u001b[0m\n\u001b[1;32m----> 1\u001b[1;33m \u001b[0msns\u001b[0m\u001b[1;33m.\u001b[0m\u001b[0mdark_palette\u001b[0m\u001b[1;33m(\u001b[0m\u001b[1;34m'Set2'\u001b[0m\u001b[1;33m)\u001b[0m\u001b[1;33m\u001b[0m\u001b[1;33m\u001b[0m\u001b[0m\n\u001b[0m",
      "\u001b[1;32m~\\Anaconda3\\lib\\site-packages\\seaborn\\palettes.py\u001b[0m in \u001b[0;36mdark_palette\u001b[1;34m(color, n_colors, reverse, as_cmap, input)\u001b[0m\n\u001b[0;32m    541\u001b[0m \u001b[1;33m\u001b[0m\u001b[0m\n\u001b[0;32m    542\u001b[0m     \"\"\"\n\u001b[1;32m--> 543\u001b[1;33m     \u001b[0mrgb\u001b[0m \u001b[1;33m=\u001b[0m \u001b[0m_color_to_rgb\u001b[0m\u001b[1;33m(\u001b[0m\u001b[0mcolor\u001b[0m\u001b[1;33m,\u001b[0m \u001b[0minput\u001b[0m\u001b[1;33m)\u001b[0m\u001b[1;33m\u001b[0m\u001b[1;33m\u001b[0m\u001b[0m\n\u001b[0m\u001b[0;32m    544\u001b[0m     \u001b[0mh\u001b[0m\u001b[1;33m,\u001b[0m \u001b[0ms\u001b[0m\u001b[1;33m,\u001b[0m \u001b[0ml\u001b[0m \u001b[1;33m=\u001b[0m \u001b[0mhusl\u001b[0m\u001b[1;33m.\u001b[0m\u001b[0mrgb_to_husl\u001b[0m\u001b[1;33m(\u001b[0m\u001b[1;33m*\u001b[0m\u001b[0mrgb\u001b[0m\u001b[1;33m)\u001b[0m\u001b[1;33m\u001b[0m\u001b[1;33m\u001b[0m\u001b[0m\n\u001b[0;32m    545\u001b[0m     \u001b[0mgray_s\u001b[0m\u001b[1;33m,\u001b[0m \u001b[0mgray_l\u001b[0m \u001b[1;33m=\u001b[0m \u001b[1;36m.15\u001b[0m \u001b[1;33m*\u001b[0m \u001b[0ms\u001b[0m\u001b[1;33m,\u001b[0m \u001b[1;36m15\u001b[0m\u001b[1;33m\u001b[0m\u001b[1;33m\u001b[0m\u001b[0m\n",
      "\u001b[1;32m~\\Anaconda3\\lib\\site-packages\\seaborn\\palettes.py\u001b[0m in \u001b[0;36m_color_to_rgb\u001b[1;34m(color, input)\u001b[0m\n\u001b[0;32m    465\u001b[0m         \u001b[0mcolor\u001b[0m \u001b[1;33m=\u001b[0m \u001b[0mxkcd_rgb\u001b[0m\u001b[1;33m[\u001b[0m\u001b[0mcolor\u001b[0m\u001b[1;33m]\u001b[0m\u001b[1;33m\u001b[0m\u001b[1;33m\u001b[0m\u001b[0m\n\u001b[0;32m    466\u001b[0m \u001b[1;33m\u001b[0m\u001b[0m\n\u001b[1;32m--> 467\u001b[1;33m     \u001b[1;32mreturn\u001b[0m \u001b[0mmpl\u001b[0m\u001b[1;33m.\u001b[0m\u001b[0mcolors\u001b[0m\u001b[1;33m.\u001b[0m\u001b[0mto_rgb\u001b[0m\u001b[1;33m(\u001b[0m\u001b[0mcolor\u001b[0m\u001b[1;33m)\u001b[0m\u001b[1;33m\u001b[0m\u001b[1;33m\u001b[0m\u001b[0m\n\u001b[0m\u001b[0;32m    468\u001b[0m \u001b[1;33m\u001b[0m\u001b[0m\n\u001b[0;32m    469\u001b[0m \u001b[1;33m\u001b[0m\u001b[0m\n",
      "\u001b[1;32m~\\Anaconda3\\lib\\site-packages\\matplotlib\\colors.py\u001b[0m in \u001b[0;36mto_rgb\u001b[1;34m(c)\u001b[0m\n\u001b[0;32m    344\u001b[0m \u001b[1;32mdef\u001b[0m \u001b[0mto_rgb\u001b[0m\u001b[1;33m(\u001b[0m\u001b[0mc\u001b[0m\u001b[1;33m)\u001b[0m\u001b[1;33m:\u001b[0m\u001b[1;33m\u001b[0m\u001b[1;33m\u001b[0m\u001b[0m\n\u001b[0;32m    345\u001b[0m     \u001b[1;34m\"\"\"Convert *c* to an RGB color, silently dropping the alpha channel.\"\"\"\u001b[0m\u001b[1;33m\u001b[0m\u001b[1;33m\u001b[0m\u001b[0m\n\u001b[1;32m--> 346\u001b[1;33m     \u001b[1;32mreturn\u001b[0m \u001b[0mto_rgba\u001b[0m\u001b[1;33m(\u001b[0m\u001b[0mc\u001b[0m\u001b[1;33m)\u001b[0m\u001b[1;33m[\u001b[0m\u001b[1;33m:\u001b[0m\u001b[1;36m3\u001b[0m\u001b[1;33m]\u001b[0m\u001b[1;33m\u001b[0m\u001b[1;33m\u001b[0m\u001b[0m\n\u001b[0m\u001b[0;32m    347\u001b[0m \u001b[1;33m\u001b[0m\u001b[0m\n\u001b[0;32m    348\u001b[0m \u001b[1;33m\u001b[0m\u001b[0m\n",
      "\u001b[1;32m~\\Anaconda3\\lib\\site-packages\\matplotlib\\colors.py\u001b[0m in \u001b[0;36mto_rgba\u001b[1;34m(c, alpha)\u001b[0m\n\u001b[0;32m    187\u001b[0m         \u001b[0mrgba\u001b[0m \u001b[1;33m=\u001b[0m \u001b[1;32mNone\u001b[0m\u001b[1;33m\u001b[0m\u001b[1;33m\u001b[0m\u001b[0m\n\u001b[0;32m    188\u001b[0m     \u001b[1;32mif\u001b[0m \u001b[0mrgba\u001b[0m \u001b[1;32mis\u001b[0m \u001b[1;32mNone\u001b[0m\u001b[1;33m:\u001b[0m  \u001b[1;31m# Suppress exception chaining of cache lookup failure.\u001b[0m\u001b[1;33m\u001b[0m\u001b[1;33m\u001b[0m\u001b[0m\n\u001b[1;32m--> 189\u001b[1;33m         \u001b[0mrgba\u001b[0m \u001b[1;33m=\u001b[0m \u001b[0m_to_rgba_no_colorcycle\u001b[0m\u001b[1;33m(\u001b[0m\u001b[0mc\u001b[0m\u001b[1;33m,\u001b[0m \u001b[0malpha\u001b[0m\u001b[1;33m)\u001b[0m\u001b[1;33m\u001b[0m\u001b[1;33m\u001b[0m\u001b[0m\n\u001b[0m\u001b[0;32m    190\u001b[0m         \u001b[1;32mtry\u001b[0m\u001b[1;33m:\u001b[0m\u001b[1;33m\u001b[0m\u001b[1;33m\u001b[0m\u001b[0m\n\u001b[0;32m    191\u001b[0m             \u001b[0m_colors_full_map\u001b[0m\u001b[1;33m.\u001b[0m\u001b[0mcache\u001b[0m\u001b[1;33m[\u001b[0m\u001b[0mc\u001b[0m\u001b[1;33m,\u001b[0m \u001b[0malpha\u001b[0m\u001b[1;33m]\u001b[0m \u001b[1;33m=\u001b[0m \u001b[0mrgba\u001b[0m\u001b[1;33m\u001b[0m\u001b[1;33m\u001b[0m\u001b[0m\n",
      "\u001b[1;32m~\\Anaconda3\\lib\\site-packages\\matplotlib\\colors.py\u001b[0m in \u001b[0;36m_to_rgba_no_colorcycle\u001b[1;34m(c, alpha)\u001b[0m\n\u001b[0;32m    258\u001b[0m                     f\"Value must be within 0-1 range\")\n\u001b[0;32m    259\u001b[0m             \u001b[1;32mreturn\u001b[0m \u001b[0mc\u001b[0m\u001b[1;33m,\u001b[0m \u001b[0mc\u001b[0m\u001b[1;33m,\u001b[0m \u001b[0mc\u001b[0m\u001b[1;33m,\u001b[0m \u001b[0malpha\u001b[0m \u001b[1;32mif\u001b[0m \u001b[0malpha\u001b[0m \u001b[1;32mis\u001b[0m \u001b[1;32mnot\u001b[0m \u001b[1;32mNone\u001b[0m \u001b[1;32melse\u001b[0m \u001b[1;36m1.\u001b[0m\u001b[1;33m\u001b[0m\u001b[1;33m\u001b[0m\u001b[0m\n\u001b[1;32m--> 260\u001b[1;33m         \u001b[1;32mraise\u001b[0m \u001b[0mValueError\u001b[0m\u001b[1;33m(\u001b[0m\u001b[1;34mf\"Invalid RGBA argument: {orig_c!r}\"\u001b[0m\u001b[1;33m)\u001b[0m\u001b[1;33m\u001b[0m\u001b[1;33m\u001b[0m\u001b[0m\n\u001b[0m\u001b[0;32m    261\u001b[0m     \u001b[1;31m# tuple color.\u001b[0m\u001b[1;33m\u001b[0m\u001b[1;33m\u001b[0m\u001b[1;33m\u001b[0m\u001b[0m\n\u001b[0;32m    262\u001b[0m     \u001b[1;32mif\u001b[0m \u001b[1;32mnot\u001b[0m \u001b[0mnp\u001b[0m\u001b[1;33m.\u001b[0m\u001b[0miterable\u001b[0m\u001b[1;33m(\u001b[0m\u001b[0mc\u001b[0m\u001b[1;33m)\u001b[0m\u001b[1;33m:\u001b[0m\u001b[1;33m\u001b[0m\u001b[1;33m\u001b[0m\u001b[0m\n",
      "\u001b[1;31mValueError\u001b[0m: Invalid RGBA argument: 'Set2'"
     ]
    }
   ],
   "source": [
    "sns.dark_palette('Set2')"
   ]
  },
  {
   "cell_type": "code",
   "execution_count": 128,
   "id": "7c229f1e",
   "metadata": {},
   "outputs": [
    {
     "data": {
      "image/png": "[encoded data removed]",
      "text/plain": [
       "<Figure size 432x72 with 1 Axes>"
      ]
     },
     "metadata": {
      "needs_background": "light"
     },
     "output_type": "display_data"
    },
    {
     "data": {
      "image/png": "[encoded data removed]",
      "text/plain": [
       "<Figure size 432x72 with 1 Axes>"
      ]
     },
     "metadata": {
      "needs_background": "light"
     },
     "output_type": "display_data"
    },
    {
     "data": {
      "image/png": "[encoded data removed]",
      "text/plain": [
       "<Figure size 432x72 with 1 Axes>"
      ]
     },
     "metadata": {
      "needs_background": "light"
     },
     "output_type": "display_data"
    },
    {
     "data": {
      "image/png": "[encoded data removed]",
      "text/plain": [
       "<Figure size 432x72 with 1 Axes>"
      ]
     },
     "metadata": {
      "needs_background": "light"
     },
     "output_type": "display_data"
    },
    {
     "data": {
      "image/png": "[encoded data removed]",
      "text/plain": [
       "<Figure size 432x72 with 1 Axes>"
      ]
     },
     "metadata": {
      "needs_background": "light"
     },
     "output_type": "display_data"
    },
    {
     "data": {
      "image/png": "[encoded data removed]",
      "text/plain": [
       "<Figure size 432x72 with 1 Axes>"
      ]
     },
     "metadata": {
      "needs_background": "light"
     },
     "output_type": "display_data"
    },
    {
     "data": {
      "image/png": "[encoded data removed]",
      "text/plain": [
       "<Figure size 432x72 with 1 Axes>"
      ]
     },
     "metadata": {
      "needs_background": "light"
     },
     "output_type": "display_data"
    },
    {
     "data": {
      "image/png": "[encoded data removed]",
      "text/plain": [
       "<Figure size 432x72 with 1 Axes>"
      ]
     },
     "metadata": {
      "needs_background": "light"
     },
     "output_type": "display_data"
    },
    {
     "data": {
      "image/png": "[encoded data removed]",
      "text/plain": [
       "<Figure size 432x72 with 1 Axes>"
      ]
     },
     "metadata": {
      "needs_background": "light"
     },
     "output_type": "display_data"
    },
    {
     "data": {
      "image/png": "[encoded data removed]",
      "text/plain": [
       "<Figure size 432x72 with 1 Axes>"
      ]
     },
     "metadata": {
      "needs_background": "light"
     },
     "output_type": "display_data"
    },
    {
     "data": {
      "image/png": "[encoded data removed]",
      "text/plain": [
       "<Figure size 432x72 with 1 Axes>"
      ]
     },
     "metadata": {
      "needs_background": "light"
     },
     "output_type": "display_data"
    },
    {
     "data": {
      "image/png": "[encoded data removed]",
      "text/plain": [
       "<Figure size 432x72 with 1 Axes>"
      ]
     },
     "metadata": {
      "needs_background": "light"
     },
     "output_type": "display_data"
    },
    {
     "data": {
      "image/png": "[encoded data removed]",
      "text/plain": [
       "<Figure size 432x72 with 1 Axes>"
      ]
     },
     "metadata": {
      "needs_background": "light"
     },
     "output_type": "display_data"
    },
    {
     "data": {
      "image/png": "[encoded data removed]",
      "text/plain": [
       "<Figure size 432x72 with 1 Axes>"
      ]
     },
     "metadata": {
      "needs_background": "light"
     },
     "output_type": "display_data"
    },
    {
     "data": {
      "image/png": "[encoded data removed]",
      "text/plain": [
       "<Figure size 432x72 with 1 Axes>"
      ]
     },
     "metadata": {
      "needs_background": "light"
     },
     "output_type": "display_data"
    },
    {
     "data": {
      "image/png": "[encoded data removed]",
      "text/plain": [
       "<Figure size 432x72 with 1 Axes>"
      ]
     },
     "metadata": {
      "needs_background": "light"
     },
     "output_type": "display_data"
    }
   ],
   "source": [
    "for i in sns.color_palette('Set2'):\n",
    "    sns.palplot((sns.dark_palette(i)))\n",
    "    sns.palplot((sns.light_palette(i)))"
   ]
  },
  {
   "cell_type": "code",
   "execution_count": 125,
   "id": "395e2da3",
   "metadata": {},
   "outputs": [
    {
     "data": {
      "text/html": [
       "<svg  width=\"330\" height=\"55\"><rect x=\"0\" y=\"0\" width=\"55\" height=\"55\" style=\"fill:#232625;stroke-width:2;stroke:rgb(255,255,255)\"/><rect x=\"55\" y=\"0\" width=\"55\" height=\"55\" style=\"fill:#31463f;stroke-width:2;stroke:rgb(255,255,255)\"/><rect x=\"110\" y=\"0\" width=\"55\" height=\"55\" style=\"fill:#3e6558;stroke-width:2;stroke:rgb(255,255,255)\"/><rect x=\"165\" y=\"0\" width=\"55\" height=\"55\" style=\"fill:#4b8472;stroke-width:2;stroke:rgb(255,255,255)\"/><rect x=\"220\" y=\"0\" width=\"55\" height=\"55\" style=\"fill:#59a38b;stroke-width:2;stroke:rgb(255,255,255)\"/><rect x=\"275\" y=\"0\" width=\"55\" height=\"55\" style=\"fill:#66c2a5;stroke-width:2;stroke:rgb(255,255,255)\"/></svg>"
      ],
      "text/plain": [
       "[(0.13830797231109143, 0.15059036127668252, 0.1457666990577163),\n",
       " (0.19064637784887314, 0.27262915176644403, 0.2460251239520554),\n",
       " (0.24298478338665486, 0.39466794225620555, 0.3462835488463945),\n",
       " (0.29532318892443654, 0.5167067327459671, 0.44654197374073357),\n",
       " (0.34766159446221834, 0.6387455232357286, 0.5468003986350727),\n",
       " (0.4, 0.7607843137254902, 0.6470588235294118)]"
      ]
     },
     "execution_count": 125,
     "metadata": {},
     "output_type": "execute_result"
    }
   ],
   "source": [
    "sns.dark_palette(sns.color_palette('Set2')[0])"
   ]
  },
  {
   "cell_type": "code",
   "execution_count": 118,
   "id": "26e68808",
   "metadata": {},
   "outputs": [
    {
     "ename": "NameError",
     "evalue": "name 'x' is not defined",
     "output_type": "error",
     "traceback": [
      "\u001b[1;31m---------------------------------------------------------------------------\u001b[0m",
      "\u001b[1;31mNameError\u001b[0m                                 Traceback (most recent call last)",
      "\u001b[1;32m<ipython-input-118-39c75223a306>\u001b[0m in \u001b[0;36m<module>\u001b[1;34m\u001b[0m\n\u001b[0;32m      1\u001b[0m \u001b[1;32mwith\u001b[0m \u001b[0msns\u001b[0m\u001b[1;33m.\u001b[0m\u001b[0mcolor_palette\u001b[0m\u001b[1;33m(\u001b[0m\u001b[1;34m\"Set2\"\u001b[0m\u001b[1;33m)\u001b[0m\u001b[1;33m:\u001b[0m\u001b[1;33m\u001b[0m\u001b[1;33m\u001b[0m\u001b[0m\n\u001b[1;32m----> 2\u001b[1;33m     \u001b[0msns\u001b[0m\u001b[1;33m.\u001b[0m\u001b[0mrelplot\u001b[0m\u001b[1;33m(\u001b[0m\u001b[0mx\u001b[0m\u001b[1;33m=\u001b[0m\u001b[0mx\u001b[0m\u001b[1;33m,\u001b[0m \u001b[0my\u001b[0m\u001b[1;33m=\u001b[0m\u001b[0my\u001b[0m\u001b[1;33m,\u001b[0m \u001b[0mhue\u001b[0m\u001b[1;33m=\u001b[0m\u001b[0mhue\u001b[0m\u001b[1;33m,\u001b[0m \u001b[0ms\u001b[0m\u001b[1;33m=\u001b[0m\u001b[1;36m500\u001b[0m\u001b[1;33m,\u001b[0m \u001b[0mlegend\u001b[0m\u001b[1;33m=\u001b[0m\u001b[1;32mFalse\u001b[0m\u001b[1;33m,\u001b[0m \u001b[0mheight\u001b[0m\u001b[1;33m=\u001b[0m\u001b[1;36m1.3\u001b[0m\u001b[1;33m,\u001b[0m \u001b[0maspect\u001b[0m\u001b[1;33m=\u001b[0m\u001b[1;36m4\u001b[0m\u001b[1;33m)\u001b[0m\u001b[1;33m\u001b[0m\u001b[1;33m\u001b[0m\u001b[0m\n\u001b[0m\u001b[0;32m      3\u001b[0m \u001b[1;33m\u001b[0m\u001b[0m\n\u001b[0;32m      4\u001b[0m \u001b[1;31m# sns.relplot(x=x, y=y, hue=hue, s=500, legend=False, height=1.3, aspect=4)\u001b[0m\u001b[1;33m\u001b[0m\u001b[1;33m\u001b[0m\u001b[1;33m\u001b[0m\u001b[0m\n",
      "\u001b[1;31mNameError\u001b[0m: name 'x' is not defined"
     ]
    }
   ],
   "source": [
    "with sns.color_palette(\"Set2\"):\n",
    "    sns.relplot(x=x, y=y, hue=hue, s=500, legend=False, height=1.3, aspect=4)\n",
    "\n",
    "# sns.relplot(x=x, y=y, hue=hue, s=500, legend=False, height=1.3, aspect=4)"
   ]
  },
  {
   "cell_type": "code",
   "execution_count": null,
   "id": "736685b1",
   "metadata": {},
   "outputs": [],
   "source": []
  }
 ],
 "metadata": {
  "kernelspec": {
   "display_name": "Python 3",
   "language": "python",
   "name": "python3"
  },
  "language_info": {
   "codemirror_mode": {
    "name": "ipython",
    "version": 3
   },
   "file_extension": ".py",
   "mimetype": "text/x-python",
   "name": "python",
   "nbconvert_exporter": "python",
   "pygments_lexer": "ipython3",
   "version": "3.8.8"
  },
  "toc": {
   "base_numbering": 1,
   "nav_menu": {},
   "number_sections": true,
   "sideBar": true,
   "skip_h1_title": false,
   "title_cell": "Table of Contents",
   "title_sidebar": "Contents",
   "toc_cell": false,
   "toc_position": {},
   "toc_section_display": true,
   "toc_window_display": false
  }
 },
 "nbformat": 4,
 "nbformat_minor": 5
}
