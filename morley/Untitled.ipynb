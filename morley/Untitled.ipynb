{
 "cells": [
  {
   "cell_type": "code",
   "execution_count": 1,
   "metadata": {},
   "outputs": [],
   "source": [
    "# import imutils\n",
    "# from imutils import contours\n",
    "# import scipy\n",
    "# from scipy.spatial import distance as dist\n",
    "# import cv2 as cv\n",
    "# import numpy as np\n",
    "# import matplotlib\n",
    "# from matplotlib import pyplot as plt\n",
    "# import pandas as pd\n",
    "# from os import path, listdir\n",
    "# import os, random\n",
    "# import time\n",
    "# import seaborn  as sns\n",
    "# import gc\n",
    "# import sys\n",
    "# import datetime\n",
    "# import csv\n",
    "# import math\n",
    "# from sklearn.linear_model import LinearRegression\n",
    "# import matplotlib.patches as mpatches\n",
    "# from collections import defaultdict\n",
    "# import time"
   ]
  },
  {
   "cell_type": "code",
   "execution_count": 3,
   "metadata": {},
   "outputs": [],
   "source": [
    "import tkinter as tk\n",
    "from functools import partial\n",
    "import gui\n",
    "\n",
    "\n",
    "\n",
    "def main():\n",
    "    window = tk.Tk()\n",
    "    window.title('Plants GUI')\n",
    "    window.geometry('900x600')\n",
    "\n",
    "    # gui.state['settings']['slider'] = tk.DoubleVar(value=1.0)\n",
    "    gui.set_state_variables(gui.state)\n",
    "    gui.state['settings']['slider'] = tk.IntVar(value=1.0)\n",
    "\n",
    "    # https://stackoverflow.com/a/54068050/1258041\n",
    "    try:\n",
    "        try:\n",
    "            window.tk.call('tk_getOpenFile', '-foobarbaz')\n",
    "        except tk.TclError:\n",
    "            pass\n",
    "\n",
    "        window.tk.call('set', '::tk::dialog::file::showHiddenBtn', '1')\n",
    "        window.tk.call('set', '::tk::dialog::file::showHiddenVar', '0')\n",
    "    except:\n",
    "        pass\n",
    "\n",
    "    files_frame = tk.Frame()\n",
    "\n",
    "    raw_dir_lbl = tk.Label(master=files_frame, text=\"No directory selected\", justify='left')\n",
    "    get_raw_dir_btn = tk.Button(master=files_frame, text=\"Select image directory\",\n",
    "        command=partial(gui.get_image_dirname, raw_dir_lbl), width=20)\n",
    "\n",
    "\n",
    "    get_raw_dir_btn.grid(column=0, row=0)  #pack(side=tk.LEFT, anchor=tk.E)\n",
    "    raw_dir_lbl.grid(column=1, row=0)  #pack(side=tk.LEFT, padx=15, anchor=tk.W)\n",
    "\n",
    "    template_lbl = tk.Label(master=files_frame, text=\"Template file not selected\", justify='left')\n",
    "    get_template_btn = tk.Button(master=files_frame, text=\"Select seed template\", command=partial(gui.get_template_file, template_lbl), width=20)\n",
    "\n",
    "    template_lbl.grid(row=1, column=1)\n",
    "    get_template_btn.grid(row=1, column=0)  #pack(side=tk.TOP)\n",
    "\n",
    "    out_dir_lbl = tk.Label(master=files_frame, text=\"Output directory: \" + gui.state['paths']['out_dir'], justify='left')\n",
    "    get_out_dir_btn = tk.Button(master=files_frame, text=\"Select output directory\",\n",
    "        command=partial(gui.get_out_dirname, out_dir_lbl), width=20)\n",
    "\n",
    "    get_out_dir_btn.grid(column=0, row=2)  #pack(side=tk.LEFT, anchor=tk.E)\n",
    "    out_dir_lbl.grid(column=1, row=2)  #pack(side=tk.LEFT, padx=15, anchor=tk.W)\n",
    "\n",
    "\n",
    "    files_frame.grid(column=0, row=0, columnspan=2, rowspan=3)\n",
    "\n",
    "    status_frame = tk.Frame()\n",
    "    status_frame.grid(column=2, row=0, rowspan=3)\n",
    "\n",
    "    \n",
    "    \n",
    "    raw_file_lbl = tk.Label(master=files_frame, text=\"No file selected\", justify='left')\n",
    "    get_raw_file_btn = tk.Button(master=files_frame, text=\"Select image file\",\n",
    "        command=partial(gui.get_file, raw_file_lbl), width=20)\n",
    "\n",
    "\n",
    "    get_raw_file_btn.grid(column=0, row=4)  #pack(side=tk.LEFT, anchor=tk.E)\n",
    "    raw_file_lbl.grid(column=1, row=4)  #pack(side=tk.LEFT, padx=15, anchor=tk.W)\n",
    "    \n",
    "    \n",
    "    \n",
    "    tweak_file_lbl = tk.Label(master=files_frame, text=\"Tweaking image\" , justify='left')\n",
    "    tweak_file_btn = tk.Button(master=files_frame, text=\"Tweak image\", command=partial(gui.tweak_image, window), width=20)\n",
    "    tweak_file_btn.grid(column=0, row=5)  #pack(side=tk.LEFT, anchor=tk.E)\n",
    "    tweak_file_lbl.grid(column=1, row=5)  #pack(side=tk.LEFT, padx=15, anchor=tk.W)\n",
    "    \n",
    "    \n",
    "    rotation_file_lbl = tk.Label(master=files_frame, text=\"Rotating image\" , justify='left')\n",
    "    rotation_file_btn = tk.Button(master=files_frame, text=\"Rotate image\", command=partial(gui.rotation, window), width=20)\n",
    "    rotation_file_btn.grid(column=0, row=6)  #pack(side=tk.LEFT, anchor=tk.E)\n",
    "    rotation_file_lbl.grid(column=1, row=6)  #pack(side=tk.LEFT, padx=15, anchor=tk.W)\n",
    "\n",
    "    window.mainloop()\n",
    "\n",
    "if __name__ == '__main__':\n",
    "    main()\n"
   ]
  },
  {
   "cell_type": "code",
   "execution_count": 27,
   "metadata": {},
   "outputs": [
    {
     "name": "stdout",
     "output_type": "stream",
     "text": [
      "C:\\\n"
     ]
    },
    {
     "data": {
      "text/plain": [
       "'C:\\\\'"
      ]
     },
     "execution_count": 27,
     "metadata": {},
     "output_type": "execute_result"
    }
   ],
   "source": [
    "%cd /..\n",
    "%pwd"
   ]
  },
  {
   "cell_type": "code",
   "execution_count": 28,
   "metadata": {},
   "outputs": [
    {
     "name": "stdout",
     "output_type": "stream",
     "text": [
      "C:\\Users\\dasha\\morley\n"
     ]
    },
    {
     "data": {
      "text/plain": [
       "'C:\\\\Users\\\\dasha\\\\morley'"
      ]
     },
     "execution_count": 28,
     "metadata": {},
     "output_type": "execute_result"
    }
   ],
   "source": [
    "%cd C:/Users/dasha/morley\n",
    "    \n",
    "%pwd"
   ]
  },
  {
   "cell_type": "code",
   "execution_count": 30,
   "metadata": {},
   "outputs": [
    {
     "name": "stdout",
     "output_type": "stream",
     "text": [
      "Obtaining file:///C:/Users/dasha/morley\n",
      "Collecting pyteomics\n",
      "  Downloading pyteomics-4.5.6-py2.py3-none-any.whl (232 kB)\n",
      "Requirement already satisfied: seaborn in c:\\users\\dasha\\anaconda3\\lib\\site-packages (from morley==0.0.1) (0.11.1)\n",
      "Requirement already satisfied: scipy in c:\\users\\dasha\\anaconda3\\lib\\site-packages (from morley==0.0.1) (1.6.2)\n",
      "Requirement already satisfied: scikit-learn in c:\\users\\dasha\\anaconda3\\lib\\site-packages (from morley==0.0.1) (0.24.1)\n",
      "Requirement already satisfied: opencv-python in c:\\users\\dasha\\anaconda3\\lib\\site-packages (from morley==0.0.1) (4.6.0.66)\n",
      "Requirement already satisfied: imutils in c:\\users\\dasha\\anaconda3\\lib\\site-packages (from morley==0.0.1) (0.5.4)\n",
      "Requirement already satisfied: numpy>=1.14.5 in c:\\users\\dasha\\anaconda3\\lib\\site-packages (from opencv-python->morley==0.0.1) (1.20.1)\n",
      "Requirement already satisfied: joblib>=0.11 in c:\\users\\dasha\\anaconda3\\lib\\site-packages (from scikit-learn->morley==0.0.1) (1.0.1)\n",
      "Requirement already satisfied: threadpoolctl>=2.0.0 in c:\\users\\dasha\\anaconda3\\lib\\site-packages (from scikit-learn->morley==0.0.1) (2.1.0)\n",
      "Requirement already satisfied: pandas>=0.23 in c:\\users\\dasha\\anaconda3\\lib\\site-packages (from seaborn->morley==0.0.1) (1.2.4)\n",
      "Requirement already satisfied: matplotlib>=2.2 in c:\\users\\dasha\\anaconda3\\lib\\site-packages (from seaborn->morley==0.0.1) (3.3.4)\n",
      "Requirement already satisfied: python-dateutil>=2.1 in c:\\users\\dasha\\anaconda3\\lib\\site-packages (from matplotlib>=2.2->seaborn->morley==0.0.1) (2.8.1)\n",
      "Requirement already satisfied: pyparsing!=2.0.4,!=2.1.2,!=2.1.6,>=2.0.3 in c:\\users\\dasha\\anaconda3\\lib\\site-packages (from matplotlib>=2.2->seaborn->morley==0.0.1) (2.4.7)\n",
      "Requirement already satisfied: pillow>=6.2.0 in c:\\users\\dasha\\anaconda3\\lib\\site-packages (from matplotlib>=2.2->seaborn->morley==0.0.1) (8.2.0)\n",
      "Requirement already satisfied: cycler>=0.10 in c:\\users\\dasha\\anaconda3\\lib\\site-packages (from matplotlib>=2.2->seaborn->morley==0.0.1) (0.10.0)\n",
      "Requirement already satisfied: kiwisolver>=1.0.1 in c:\\users\\dasha\\anaconda3\\lib\\site-packages (from matplotlib>=2.2->seaborn->morley==0.0.1) (1.3.1)\n",
      "Requirement already satisfied: six in c:\\users\\dasha\\anaconda3\\lib\\site-packages (from cycler>=0.10->matplotlib>=2.2->seaborn->morley==0.0.1) (1.15.0)\n",
      "Requirement already satisfied: pytz>=2017.3 in c:\\users\\dasha\\anaconda3\\lib\\site-packages (from pandas>=0.23->seaborn->morley==0.0.1) (2021.1)\n",
      "Installing collected packages: pyteomics, morley\n",
      "  Running setup.py develop for morley\n",
      "Successfully installed morley pyteomics-4.5.6\n",
      "Note: you may need to restart the kernel to use updated packages.\n"
     ]
    }
   ],
   "source": [
    "pip install -e C:/Users/dasha/morley"
   ]
  },
  {
   "cell_type": "code",
   "execution_count": 49,
   "metadata": {},
   "outputs": [
    {
     "name": "stdout",
     "output_type": "stream",
     "text": [
      "1\n",
      "[9, 3, 148]\n",
      "[0, 255, 0, 255, 0, 255]\n",
      "[0, 255, 0, 255, 0, 255]\n",
      "...LOOKING FOR CONTOURS...\n",
      "9\n",
      "7.36382307394771\n",
      "Figure(1400x1400)\n",
      "27\n",
      "7.36382307394771\n",
      "...LOOKING FOR SEEDS POSITION...\n",
      "Figure(1400x1400)\n",
      "...MAKING COLOR...\n",
      "(4032, 3024, 3)\n",
      "...WIDTH CALCULATION...\n",
      "...PIXEL COUNTING...\n",
      "Figure(1400x1400)\n",
      "...LOOKING FOR CONTOURS...\n",
      "9\n",
      "7.334917089620045\n",
      "Figure(1400x1400)\n",
      "23\n",
      "7.334917089620045\n",
      "...LOOKING FOR SEEDS POSITION...\n",
      "Figure(1400x1400)\n",
      "...MAKING COLOR...\n",
      "(4032, 3024, 3)\n",
      "...WIDTH CALCULATION...\n",
      "...PIXEL COUNTING...\n",
      "Figure(1400x1400)\n",
      "...LOOKING FOR CONTOURS...\n",
      "9\n",
      "7.2879310205498955\n",
      "Figure(1400x1400)\n",
      "17\n",
      "7.2879310205498955\n",
      "...LOOKING FOR SEEDS POSITION...\n",
      "Figure(1400x1400)\n",
      "...MAKING COLOR...\n",
      "(4032, 3024, 3)\n",
      "...WIDTH CALCULATION...\n",
      "...PIXEL COUNTING...\n",
      "Figure(1400x1400)\n",
      "...LOOKING FOR CONTOURS...\n",
      "9\n",
      "7.258733349736706\n",
      "Figure(1400x1400)\n",
      "26\n",
      "7.258733349736706\n",
      "...LOOKING FOR SEEDS POSITION...\n",
      "Figure(1400x1400)\n",
      "...MAKING COLOR...\n",
      "(4032, 3024, 3)\n",
      "...WIDTH CALCULATION...\n",
      "...PIXEL COUNTING...\n",
      "Figure(1400x1400)\n",
      "...LOOKING FOR CONTOURS...\n",
      "9\n",
      "7.160722292945492\n",
      "Figure(1400x1400)\n",
      "23\n",
      "7.160722292945492\n",
      "...LOOKING FOR SEEDS POSITION...\n",
      "Figure(1400x1400)\n",
      "...MAKING COLOR...\n",
      "(4017, 2912, 3)\n",
      "...WIDTH CALCULATION...\n",
      "...PIXEL COUNTING...\n",
      "Figure(1400x1400)\n",
      "...LOOKING FOR CONTOURS...\n",
      "9\n",
      "7.277779236127736\n",
      "Figure(1400x1400)\n",
      "10\n",
      "7.277779236127736\n",
      "...LOOKING FOR SEEDS POSITION...\n",
      "Figure(1400x1400)\n",
      "...MAKING COLOR...\n",
      "(3995, 2924, 3)\n",
      "...WIDTH CALCULATION...\n",
      "...PIXEL COUNTING...\n",
      "Figure(1400x1400)\n",
      "...LOOKING FOR CONTOURS...\n",
      "9\n",
      "7.006912374941513\n",
      "Figure(1400x1400)\n",
      "23\n",
      "7.006912374941513\n",
      "...LOOKING FOR SEEDS POSITION...\n",
      "Figure(1400x1400)\n",
      "...MAKING COLOR...\n",
      "(4017, 2885, 3)\n",
      "...WIDTH CALCULATION...\n",
      "...PIXEL COUNTING...\n",
      "Figure(1400x1400)\n",
      "...LOOKING FOR CONTOURS...\n",
      "9\n",
      "7.043564358264949\n",
      "Figure(1400x1400)\n",
      "22\n",
      "7.043564358264949\n",
      "...LOOKING FOR SEEDS POSITION...\n",
      "Figure(1400x1400)\n",
      "...MAKING COLOR...\n",
      "(4032, 3024, 3)\n",
      "...WIDTH CALCULATION...\n",
      "...PIXEL COUNTING...\n",
      "Figure(1400x1400)\n",
      "...LOOKING FOR CONTOURS...\n",
      "9\n",
      "6.981192392854039\n",
      "Figure(1400x1400)\n",
      "17\n",
      "6.981192392854039\n",
      "...LOOKING FOR SEEDS POSITION...\n",
      "Figure(1400x1400)\n",
      "...MAKING COLOR...\n",
      "(4015, 2758, 3)\n",
      "...WIDTH CALCULATION...\n",
      "...PIXEL COUNTING...\n",
      "Figure(1400x1400)\n",
      "...LOOKING FOR CONTOURS...\n",
      "9\n",
      "7.027918605143756\n",
      "Figure(1400x1400)\n",
      "28\n",
      "7.027918605143756\n",
      "...LOOKING FOR SEEDS POSITION...\n",
      "Figure(1400x1400)\n",
      "...MAKING COLOR...\n",
      "(4016, 2939, 3)\n",
      "...WIDTH CALCULATION...\n",
      "...PIXEL COUNTING...\n",
      "Figure(1400x1400)\n",
      "...LOOKING FOR CONTOURS...\n",
      "9\n",
      "7.121497506203131\n",
      "Figure(1400x1400)\n",
      "24\n",
      "7.121497506203131\n",
      "...LOOKING FOR SEEDS POSITION...\n",
      "Figure(1400x1400)\n",
      "...MAKING COLOR...\n",
      "(4032, 3024, 3)\n",
      "...WIDTH CALCULATION...\n",
      "...PIXEL COUNTING...\n",
      "Figure(1400x1400)\n",
      "...LOOKING FOR CONTOURS...\n",
      "9\n",
      "7.253936411263757\n",
      "Figure(1400x1400)\n",
      "13\n",
      "7.253936411263757\n",
      "...LOOKING FOR SEEDS POSITION...\n",
      "Figure(1400x1400)\n",
      "...MAKING COLOR...\n",
      "(4032, 3024, 3)\n",
      "...WIDTH CALCULATION...\n",
      "...PIXEL COUNTING...\n",
      "Figure(1400x1400)\n",
      "...LOOKING FOR CONTOURS...\n",
      "9\n",
      "7.019562847548715\n",
      "Figure(1400x1400)\n",
      "21\n",
      "7.019562847548715\n",
      "...LOOKING FOR SEEDS POSITION...\n",
      "Figure(1400x1400)\n",
      "...MAKING COLOR...\n",
      "(4000, 2912, 3)\n",
      "...WIDTH CALCULATION...\n",
      "...PIXEL COUNTING...\n",
      "Figure(1400x1400)\n",
      "...LOOKING FOR CONTOURS...\n",
      "9\n",
      "7.047366002159509\n",
      "Figure(1400x1400)\n",
      "22\n",
      "7.047366002159509\n",
      "...LOOKING FOR SEEDS POSITION...\n",
      "Figure(1400x1400)\n",
      "...MAKING COLOR...\n",
      "(4028, 2883, 3)\n",
      "...WIDTH CALCULATION...\n",
      "...PIXEL COUNTING...\n",
      "Figure(1400x1400)\n",
      "...LOOKING FOR CONTOURS...\n",
      "9\n",
      "7.2164097985466\n",
      "Figure(1400x1400)\n",
      "20\n",
      "7.2164097985466\n",
      "...LOOKING FOR SEEDS POSITION...\n",
      "Figure(1400x1400)\n",
      "...MAKING COLOR...\n",
      "(4017, 2913, 3)\n",
      "...WIDTH CALCULATION...\n",
      "...PIXEL COUNTING...\n",
      "Figure(1400x1400)\n",
      "...LOOKING FOR CONTOURS...\n",
      "9\n",
      "7.106281434375177\n",
      "Figure(1400x1400)\n",
      "21\n",
      "7.106281434375177\n",
      "...LOOKING FOR SEEDS POSITION...\n",
      "Figure(1400x1400)\n",
      "...MAKING COLOR...\n",
      "(4032, 3024, 3)\n",
      "...WIDTH CALCULATION...\n",
      "...PIXEL COUNTING...\n",
      "Figure(1400x1400)\n",
      "...LOOKING FOR CONTOURS...\n",
      "9\n",
      "7.7519379285158285\n",
      "Figure(1400x1400)\n",
      "20\n",
      "7.7519379285158285\n",
      "...LOOKING FOR SEEDS POSITION...\n",
      "Figure(1400x1400)\n",
      "...MAKING COLOR...\n",
      "(4032, 3024, 3)\n",
      "...WIDTH CALCULATION...\n",
      "...PIXEL COUNTING...\n",
      "Figure(1400x1400)\n",
      "...LOOKING FOR CONTOURS...\n",
      "9\n",
      "7.01765202986204\n",
      "Figure(1400x1400)\n",
      "21\n",
      "7.01765202986204\n",
      "...LOOKING FOR SEEDS POSITION...\n",
      "Figure(1400x1400)\n",
      "...MAKING COLOR...\n",
      "(4032, 3024, 3)\n",
      "...WIDTH CALCULATION...\n",
      "...PIXEL COUNTING...\n",
      "Figure(1400x1400)\n"
     ]
    },
    {
     "name": "stderr",
     "output_type": "stream",
     "text": [
      "Exception in Tkinter callback\n",
      "Traceback (most recent call last):\n",
      "  File \"C:\\Users\\dasha\\anaconda3\\lib\\tkinter\\__init__.py\", line 1705, in __call__\n",
      "    return self.func(*args)\n",
      "  File \"c:\\users\\dasha\\plants\\for_git\\morley\\morley\\Morley.py\", line 979, in search\n",
      "    print (\"{:g} s\".format(time.clock() - start_time))\n",
      "NameError: name 'start_time' is not defined\n"
     ]
    }
   ],
   "source": [
    "!morley"
   ]
  },
  {
   "cell_type": "code",
   "execution_count": 77,
   "metadata": {},
   "outputs": [
    {
     "name": "stdout",
     "output_type": "stream",
     "text": [
      "0 h\n",
      "1 s\n",
      "2 v\n"
     ]
    }
   ],
   "source": [
    "for i,j in enumerate('hsv'):\n",
    "    print(i,j)"
   ]
  },
  {
   "cell_type": "code",
   "execution_count": 36,
   "metadata": {},
   "outputs": [],
   "source": [
    "from gui import * \n",
    "\n",
    "def get_state_values(param):\n",
    "    l=[]\n",
    "    if param=='settings':\n",
    "        l.append(2*state[param]['morph']+1)\n",
    "        l.append(2*state[param]['gauss']+1)\n",
    "        l.append(state[param]['canny_top'])\n",
    "    else:\n",
    "        for i in state[param]:\n",
    "            l.append(state[param][i])\n",
    "    return l\n"
   ]
  },
  {
   "cell_type": "code",
   "execution_count": 22,
   "metadata": {},
   "outputs": [],
   "source": [
    "morph, gs, c_top = get_state_values('settings')"
   ]
  },
  {
   "cell_type": "code",
   "execution_count": 37,
   "metadata": {},
   "outputs": [
    {
     "data": {
      "text/plain": [
       "[1.0, 1.0, 255.0]"
      ]
     },
     "execution_count": 37,
     "metadata": {},
     "output_type": "execute_result"
    }
   ],
   "source": [
    "get_state_values('settings')"
   ]
  },
  {
   "cell_type": "code",
   "execution_count": 23,
   "metadata": {},
   "outputs": [
    {
     "data": {
      "text/plain": [
       "0.0"
      ]
     },
     "execution_count": 23,
     "metadata": {},
     "output_type": "execute_result"
    }
   ],
   "source": [
    "morph"
   ]
  },
  {
   "cell_type": "code",
   "execution_count": null,
   "metadata": {},
   "outputs": [],
   "source": []
  }
 ],
 "metadata": {
  "kernelspec": {
   "display_name": "Python 3",
   "language": "python",
   "name": "python3"
  },
  "language_info": {
   "codemirror_mode": {
    "name": "ipython",
    "version": 3
   },
   "file_extension": ".py",
   "mimetype": "text/x-python",
   "name": "python",
   "nbconvert_exporter": "python",
   "pygments_lexer": "ipython3",
   "version": "3.7.6"
  },
  "toc": {
   "base_numbering": 1,
   "nav_menu": {},
   "number_sections": true,
   "sideBar": true,
   "skip_h1_title": false,
   "title_cell": "Table of Contents",
   "title_sidebar": "Contents",
   "toc_cell": false,
   "toc_position": {},
   "toc_section_display": true,
   "toc_window_display": false
  }
 },
 "nbformat": 4,
 "nbformat_minor": 5
}
