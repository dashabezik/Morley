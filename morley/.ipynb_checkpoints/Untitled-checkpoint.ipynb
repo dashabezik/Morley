{
 "cells": [
  {
   "cell_type": "code",
   "execution_count": 1,
   "metadata": {},
   "outputs": [],
   "source": [
    "# import imutils\n",
    "# from imutils import contours\n",
    "# import scipy\n",
    "# from scipy.spatial import distance as dist\n",
    "# import cv2 as cv\n",
    "# import numpy as np\n",
    "# import matplotlib\n",
    "# from matplotlib import pyplot as plt\n",
    "# import pandas as pd\n",
    "# from os import path, listdir\n",
    "# import os, random\n",
    "# import time\n",
    "# import seaborn  as sns\n",
    "# import gc\n",
    "# import sys\n",
    "# import datetime\n",
    "# import csv\n",
    "# import math\n",
    "# from sklearn.linear_model import LinearRegression\n",
    "# import matplotlib.patches as mpatches\n",
    "# from collections import defaultdict\n",
    "# import time"
   ]
  },
  {
   "cell_type": "code",
   "execution_count": 3,
   "metadata": {},
   "outputs": [],
   "source": [
    "import tkinter as tk\n",
    "from functools import partial\n",
    "import gui\n",
    "\n",
    "\n",
    "\n",
    "def main():\n",
    "    window = tk.Tk()\n",
    "    window.title('Plants GUI')\n",
    "    window.geometry('900x600')\n",
    "\n",
    "    # gui.state['settings']['slider'] = tk.DoubleVar(value=1.0)\n",
    "    gui.set_state_variables(gui.state)\n",
    "    gui.state['settings']['slider'] = tk.IntVar(value=1.0)\n",
    "\n",
    "    # https://stackoverflow.com/a/54068050/1258041\n",
    "    try:\n",
    "        try:\n",
    "            window.tk.call('tk_getOpenFile', '-foobarbaz')\n",
    "        except tk.TclError:\n",
    "            pass\n",
    "\n",
    "        window.tk.call('set', '::tk::dialog::file::showHiddenBtn', '1')\n",
    "        window.tk.call('set', '::tk::dialog::file::showHiddenVar', '0')\n",
    "    except:\n",
    "        pass\n",
    "\n",
    "    files_frame = tk.Frame()\n",
    "\n",
    "    raw_dir_lbl = tk.Label(master=files_frame, text=\"No directory selected\", justify='left')\n",
    "    get_raw_dir_btn = tk.Button(master=files_frame, text=\"Select image directory\",\n",
    "        command=partial(gui.get_image_dirname, raw_dir_lbl), width=20)\n",
    "\n",
    "\n",
    "    get_raw_dir_btn.grid(column=0, row=0)  #pack(side=tk.LEFT, anchor=tk.E)\n",
    "    raw_dir_lbl.grid(column=1, row=0)  #pack(side=tk.LEFT, padx=15, anchor=tk.W)\n",
    "\n",
    "    template_lbl = tk.Label(master=files_frame, text=\"Template file not selected\", justify='left')\n",
    "    get_template_btn = tk.Button(master=files_frame, text=\"Select seed template\", command=partial(gui.get_template_file, template_lbl), width=20)\n",
    "\n",
    "    template_lbl.grid(row=1, column=1)\n",
    "    get_template_btn.grid(row=1, column=0)  #pack(side=tk.TOP)\n",
    "\n",
    "    out_dir_lbl = tk.Label(master=files_frame, text=\"Output directory: \" + gui.state['paths']['out_dir'], justify='left')\n",
    "    get_out_dir_btn = tk.Button(master=files_frame, text=\"Select output directory\",\n",
    "        command=partial(gui.get_out_dirname, out_dir_lbl), width=20)\n",
    "\n",
    "    get_out_dir_btn.grid(column=0, row=2)  #pack(side=tk.LEFT, anchor=tk.E)\n",
    "    out_dir_lbl.grid(column=1, row=2)  #pack(side=tk.LEFT, padx=15, anchor=tk.W)\n",
    "\n",
    "\n",
    "    files_frame.grid(column=0, row=0, columnspan=2, rowspan=3)\n",
    "\n",
    "    status_frame = tk.Frame()\n",
    "    status_frame.grid(column=2, row=0, rowspan=3)\n",
    "\n",
    "    \n",
    "    \n",
    "    raw_file_lbl = tk.Label(master=files_frame, text=\"No file selected\", justify='left')\n",
    "    get_raw_file_btn = tk.Button(master=files_frame, text=\"Select image file\",\n",
    "        command=partial(gui.get_file, raw_file_lbl), width=20)\n",
    "\n",
    "\n",
    "    get_raw_file_btn.grid(column=0, row=4)  #pack(side=tk.LEFT, anchor=tk.E)\n",
    "    raw_file_lbl.grid(column=1, row=4)  #pack(side=tk.LEFT, padx=15, anchor=tk.W)\n",
    "    \n",
    "    \n",
    "    \n",
    "    tweak_file_lbl = tk.Label(master=files_frame, text=\"Tweaking image\" , justify='left')\n",
    "    tweak_file_btn = tk.Button(master=files_frame, text=\"Tweak image\", command=partial(gui.tweak_image, window), width=20)\n",
    "    tweak_file_btn.grid(column=0, row=5)  #pack(side=tk.LEFT, anchor=tk.E)\n",
    "    tweak_file_lbl.grid(column=1, row=5)  #pack(side=tk.LEFT, padx=15, anchor=tk.W)\n",
    "    \n",
    "    \n",
    "    rotation_file_lbl = tk.Label(master=files_frame, text=\"Rotating image\" , justify='left')\n",
    "    rotation_file_btn = tk.Button(master=files_frame, text=\"Rotate image\", command=partial(gui.rotation, window), width=20)\n",
    "    rotation_file_btn.grid(column=0, row=6)  #pack(side=tk.LEFT, anchor=tk.E)\n",
    "    rotation_file_lbl.grid(column=1, row=6)  #pack(side=tk.LEFT, padx=15, anchor=tk.W)\n",
    "\n",
    "    window.mainloop()\n",
    "\n",
    "if __name__ == '__main__':\n",
    "    main()\n"
   ]
  },
  {
   "cell_type": "code",
   "execution_count": 27,
   "metadata": {},
   "outputs": [
    {
     "name": "stdout",
     "output_type": "stream",
     "text": [
      "C:\\\n"
     ]
    },
    {
     "data": {
      "text/plain": [
       "'C:\\\\'"
      ]
     },
     "execution_count": 27,
     "metadata": {},
     "output_type": "execute_result"
    }
   ],
   "source": [
    "%cd /..\n",
    "%pwd"
   ]
  },
  {
   "cell_type": "code",
   "execution_count": 28,
   "metadata": {},
   "outputs": [
    {
     "name": "stdout",
     "output_type": "stream",
     "text": [
      "C:\\Users\\dasha\\morley\n"
     ]
    },
    {
     "data": {
      "text/plain": [
       "'C:\\\\Users\\\\dasha\\\\morley'"
      ]
     },
     "execution_count": 28,
     "metadata": {},
     "output_type": "execute_result"
    }
   ],
   "source": [
    "%cd C:/Users/dasha/morley\n",
    "    \n",
    "%pwd"
   ]
  },
  {
   "cell_type": "code",
   "execution_count": 30,
   "metadata": {},
   "outputs": [
    {
     "name": "stdout",
     "output_type": "stream",
     "text": [
      "Obtaining file:///C:/Users/dasha/morley\n",
      "Collecting pyteomics\n",
      "  Downloading pyteomics-4.5.6-py2.py3-none-any.whl (232 kB)\n",
      "Requirement already satisfied: seaborn in c:\\users\\dasha\\anaconda3\\lib\\site-packages (from morley==0.0.1) (0.11.1)\n",
      "Requirement already satisfied: scipy in c:\\users\\dasha\\anaconda3\\lib\\site-packages (from morley==0.0.1) (1.6.2)\n",
      "Requirement already satisfied: scikit-learn in c:\\users\\dasha\\anaconda3\\lib\\site-packages (from morley==0.0.1) (0.24.1)\n",
      "Requirement already satisfied: opencv-python in c:\\users\\dasha\\anaconda3\\lib\\site-packages (from morley==0.0.1) (4.6.0.66)\n",
      "Requirement already satisfied: imutils in c:\\users\\dasha\\anaconda3\\lib\\site-packages (from morley==0.0.1) (0.5.4)\n",
      "Requirement already satisfied: numpy>=1.14.5 in c:\\users\\dasha\\anaconda3\\lib\\site-packages (from opencv-python->morley==0.0.1) (1.20.1)\n",
      "Requirement already satisfied: joblib>=0.11 in c:\\users\\dasha\\anaconda3\\lib\\site-packages (from scikit-learn->morley==0.0.1) (1.0.1)\n",
      "Requirement already satisfied: threadpoolctl>=2.0.0 in c:\\users\\dasha\\anaconda3\\lib\\site-packages (from scikit-learn->morley==0.0.1) (2.1.0)\n",
      "Requirement already satisfied: pandas>=0.23 in c:\\users\\dasha\\anaconda3\\lib\\site-packages (from seaborn->morley==0.0.1) (1.2.4)\n",
      "Requirement already satisfied: matplotlib>=2.2 in c:\\users\\dasha\\anaconda3\\lib\\site-packages (from seaborn->morley==0.0.1) (3.3.4)\n",
      "Requirement already satisfied: python-dateutil>=2.1 in c:\\users\\dasha\\anaconda3\\lib\\site-packages (from matplotlib>=2.2->seaborn->morley==0.0.1) (2.8.1)\n",
      "Requirement already satisfied: pyparsing!=2.0.4,!=2.1.2,!=2.1.6,>=2.0.3 in c:\\users\\dasha\\anaconda3\\lib\\site-packages (from matplotlib>=2.2->seaborn->morley==0.0.1) (2.4.7)\n",
      "Requirement already satisfied: pillow>=6.2.0 in c:\\users\\dasha\\anaconda3\\lib\\site-packages (from matplotlib>=2.2->seaborn->morley==0.0.1) (8.2.0)\n",
      "Requirement already satisfied: cycler>=0.10 in c:\\users\\dasha\\anaconda3\\lib\\site-packages (from matplotlib>=2.2->seaborn->morley==0.0.1) (0.10.0)\n",
      "Requirement already satisfied: kiwisolver>=1.0.1 in c:\\users\\dasha\\anaconda3\\lib\\site-packages (from matplotlib>=2.2->seaborn->morley==0.0.1) (1.3.1)\n",
      "Requirement already satisfied: six in c:\\users\\dasha\\anaconda3\\lib\\site-packages (from cycler>=0.10->matplotlib>=2.2->seaborn->morley==0.0.1) (1.15.0)\n",
      "Requirement already satisfied: pytz>=2017.3 in c:\\users\\dasha\\anaconda3\\lib\\site-packages (from pandas>=0.23->seaborn->morley==0.0.1) (2021.1)\n",
      "Installing collected packages: pyteomics, morley\n",
      "  Running setup.py develop for morley\n",
      "Successfully installed morley pyteomics-4.5.6\n",
      "Note: you may need to restart the kernel to use updated packages.\n"
     ]
    }
   ],
   "source": [
    "pip install -e C:/Users/dasha/morley"
   ]
  },
  {
   "cell_type": "code",
   "execution_count": null,
   "metadata": {
    "scrolled": true
   },
   "outputs": [],
   "source": [
    "!morley"
   ]
  },
  {
   "cell_type": "code",
   "execution_count": 77,
   "metadata": {},
   "outputs": [
    {
     "name": "stdout",
     "output_type": "stream",
     "text": [
      "0 h\n",
      "1 s\n",
      "2 v\n"
     ]
    }
   ],
   "source": [
    "for i,j in enumerate('hsv'):\n",
    "    print(i,j)"
   ]
  },
  {
   "cell_type": "code",
   "execution_count": 12,
   "metadata": {},
   "outputs": [],
   "source": [
    "import gui\n",
    "\n",
    "def get_state_values(param):\n",
    "    l=[]\n",
    "    if param=='settings':\n",
    "        l.append(2*int(gui.state[param]['morph'].get())+1)\n",
    "        l.append(2*int(gui.state[param]['gauss'].get())+1)\n",
    "        l.append(int(gui.state[param]['canny_top'].get()))\n",
    "    else:\n",
    "        for i in gui.state[param]:\n",
    "            l.append(int(gui.state[param][i]))\n",
    "    return l\n"
   ]
  },
  {
   "cell_type": "code",
   "execution_count": 14,
   "metadata": {},
   "outputs": [],
   "source": [
    "def tk2int(var):\n",
    "    if type(var)==tk.IntVar:\n",
    "        var = int(var.get())\n",
    "    else:\n",
    "        var = int(var)"
   ]
  },
  {
   "cell_type": "code",
   "execution_count": 11,
   "metadata": {},
   "outputs": [
    {
     "ename": "NameError",
     "evalue": "name 'set_state_variables' is not defined",
     "output_type": "error",
     "traceback": [
      "\u001b[1;31m---------------------------------------------------------------------------\u001b[0m",
      "\u001b[1;31mNameError\u001b[0m                                 Traceback (most recent call last)",
      "\u001b[1;32m<ipython-input-11-a0b6cb3afa03>\u001b[0m in \u001b[0;36m<module>\u001b[1;34m\u001b[0m\n\u001b[1;32m----> 1\u001b[1;33m \u001b[0mset_state_variables\u001b[0m\u001b[1;33m(\u001b[0m\u001b[0mgui\u001b[0m\u001b[1;33m.\u001b[0m\u001b[0mstate\u001b[0m\u001b[1;33m[\u001b[0m\u001b[1;34m'settings'\u001b[0m\u001b[1;33m]\u001b[0m\u001b[1;33m)\u001b[0m\u001b[1;33m\u001b[0m\u001b[1;33m\u001b[0m\u001b[0m\n\u001b[0m",
      "\u001b[1;31mNameError\u001b[0m: name 'set_state_variables' is not defined"
     ]
    }
   ],
   "source": [
    "set_state_variables(gui.state['settings'])"
   ]
  },
  {
   "cell_type": "code",
   "execution_count": 13,
   "metadata": {},
   "outputs": [
    {
     "data": {
      "text/plain": [
       "[0, 255, 0, 255, 0, 255]"
      ]
     },
     "execution_count": 13,
     "metadata": {},
     "output_type": "execute_result"
    }
   ],
   "source": [
    "get_state_values('roots')"
   ]
  },
  {
   "cell_type": "code",
   "execution_count": 7,
   "metadata": {},
   "outputs": [
    {
     "ename": "AttributeError",
     "evalue": "'NoneType' object has no attribute '_root'",
     "output_type": "error",
     "traceback": [
      "\u001b[1;31m---------------------------------------------------------------------------\u001b[0m",
      "\u001b[1;31mAttributeError\u001b[0m                            Traceback (most recent call last)",
      "\u001b[1;32m<ipython-input-7-182f21e6e85e>\u001b[0m in \u001b[0;36m<module>\u001b[1;34m\u001b[0m\n\u001b[0;32m      1\u001b[0m \u001b[1;32mimport\u001b[0m \u001b[0mtkinter\u001b[0m \u001b[1;32mas\u001b[0m \u001b[0mtk\u001b[0m\u001b[1;33m\u001b[0m\u001b[1;33m\u001b[0m\u001b[0m\n\u001b[1;32m----> 2\u001b[1;33m \u001b[0mgui\u001b[0m\u001b[1;33m.\u001b[0m\u001b[0mstate\u001b[0m\u001b[1;33m[\u001b[0m\u001b[1;34m'settings'\u001b[0m\u001b[1;33m]\u001b[0m\u001b[1;33m[\u001b[0m\u001b[1;34m'slider'\u001b[0m\u001b[1;33m]\u001b[0m \u001b[1;33m=\u001b[0m \u001b[0mtk\u001b[0m\u001b[1;33m.\u001b[0m\u001b[0mIntVar\u001b[0m\u001b[1;33m(\u001b[0m\u001b[0mvalue\u001b[0m\u001b[1;33m=\u001b[0m\u001b[1;36m1.0\u001b[0m\u001b[1;33m)\u001b[0m\u001b[1;33m\u001b[0m\u001b[1;33m\u001b[0m\u001b[0m\n\u001b[0m\u001b[0;32m      3\u001b[0m \u001b[1;31m# m = tk.IntVar()\u001b[0m\u001b[1;33m\u001b[0m\u001b[1;33m\u001b[0m\u001b[1;33m\u001b[0m\u001b[0m\n\u001b[0;32m      4\u001b[0m \u001b[1;31m# m\u001b[0m\u001b[1;33m\u001b[0m\u001b[1;33m\u001b[0m\u001b[1;33m\u001b[0m\u001b[0m\n",
      "\u001b[1;32m~\\anaconda3\\lib\\tkinter\\__init__.py\u001b[0m in \u001b[0;36m__init__\u001b[1;34m(self, master, value, name)\u001b[0m\n\u001b[0;32m    500\u001b[0m         \u001b[0mthen\u001b[0m \u001b[0mthe\u001b[0m \u001b[0mexisting\u001b[0m \u001b[0mvalue\u001b[0m \u001b[1;32mis\u001b[0m \u001b[0mretained\u001b[0m\u001b[1;33m.\u001b[0m\u001b[1;33m\u001b[0m\u001b[1;33m\u001b[0m\u001b[0m\n\u001b[0;32m    501\u001b[0m         \"\"\"\n\u001b[1;32m--> 502\u001b[1;33m         \u001b[0mVariable\u001b[0m\u001b[1;33m.\u001b[0m\u001b[0m__init__\u001b[0m\u001b[1;33m(\u001b[0m\u001b[0mself\u001b[0m\u001b[1;33m,\u001b[0m \u001b[0mmaster\u001b[0m\u001b[1;33m,\u001b[0m \u001b[0mvalue\u001b[0m\u001b[1;33m,\u001b[0m \u001b[0mname\u001b[0m\u001b[1;33m)\u001b[0m\u001b[1;33m\u001b[0m\u001b[1;33m\u001b[0m\u001b[0m\n\u001b[0m\u001b[0;32m    503\u001b[0m \u001b[1;33m\u001b[0m\u001b[0m\n\u001b[0;32m    504\u001b[0m     \u001b[1;32mdef\u001b[0m \u001b[0mget\u001b[0m\u001b[1;33m(\u001b[0m\u001b[0mself\u001b[0m\u001b[1;33m)\u001b[0m\u001b[1;33m:\u001b[0m\u001b[1;33m\u001b[0m\u001b[1;33m\u001b[0m\u001b[0m\n",
      "\u001b[1;32m~\\anaconda3\\lib\\tkinter\\__init__.py\u001b[0m in \u001b[0;36m__init__\u001b[1;34m(self, master, value, name)\u001b[0m\n\u001b[0;32m    315\u001b[0m         \u001b[1;32mif\u001b[0m \u001b[1;32mnot\u001b[0m \u001b[0mmaster\u001b[0m\u001b[1;33m:\u001b[0m\u001b[1;33m\u001b[0m\u001b[1;33m\u001b[0m\u001b[0m\n\u001b[0;32m    316\u001b[0m             \u001b[0mmaster\u001b[0m \u001b[1;33m=\u001b[0m \u001b[0m_default_root\u001b[0m\u001b[1;33m\u001b[0m\u001b[1;33m\u001b[0m\u001b[0m\n\u001b[1;32m--> 317\u001b[1;33m         \u001b[0mself\u001b[0m\u001b[1;33m.\u001b[0m\u001b[0m_root\u001b[0m \u001b[1;33m=\u001b[0m \u001b[0mmaster\u001b[0m\u001b[1;33m.\u001b[0m\u001b[0m_root\u001b[0m\u001b[1;33m(\u001b[0m\u001b[1;33m)\u001b[0m\u001b[1;33m\u001b[0m\u001b[1;33m\u001b[0m\u001b[0m\n\u001b[0m\u001b[0;32m    318\u001b[0m         \u001b[0mself\u001b[0m\u001b[1;33m.\u001b[0m\u001b[0m_tk\u001b[0m \u001b[1;33m=\u001b[0m \u001b[0mmaster\u001b[0m\u001b[1;33m.\u001b[0m\u001b[0mtk\u001b[0m\u001b[1;33m\u001b[0m\u001b[1;33m\u001b[0m\u001b[0m\n\u001b[0;32m    319\u001b[0m         \u001b[1;32mif\u001b[0m \u001b[0mname\u001b[0m\u001b[1;33m:\u001b[0m\u001b[1;33m\u001b[0m\u001b[1;33m\u001b[0m\u001b[0m\n",
      "\u001b[1;31mAttributeError\u001b[0m: 'NoneType' object has no attribute '_root'"
     ]
    }
   ],
   "source": [
    "import tkinter as tk\n",
    "gui.state['settings']['slider'] = tk.IntVar(value=1.0)\n",
    "# m = tk.IntVar()\n",
    "# m"
   ]
  },
  {
   "cell_type": "code",
   "execution_count": null,
   "metadata": {},
   "outputs": [],
   "source": []
  }
 ],
 "metadata": {
  "kernelspec": {
   "display_name": "Python 3",
   "language": "python",
   "name": "python3"
  },
  "language_info": {
   "codemirror_mode": {
    "name": "ipython",
    "version": 3
   },
   "file_extension": ".py",
   "mimetype": "text/x-python",
   "name": "python",
   "nbconvert_exporter": "python",
   "pygments_lexer": "ipython3",
   "version": "3.7.6"
  },
  "toc": {
   "base_numbering": 1,
   "nav_menu": {},
   "number_sections": true,
   "sideBar": true,
   "skip_h1_title": false,
   "title_cell": "Table of Contents",
   "title_sidebar": "Contents",
   "toc_cell": false,
   "toc_position": {},
   "toc_section_display": true,
   "toc_window_display": false
  }
 },
 "nbformat": 4,
 "nbformat_minor": 5
}
