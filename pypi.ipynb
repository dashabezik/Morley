{
 "cells": [
  {
   "cell_type": "code",
   "execution_count": 11,
   "id": "46c3dac8",
   "metadata": {},
   "outputs": [
    {
     "name": "stdout",
     "output_type": "stream",
     "text": [
      "running sdist\n",
      "running egg_info\n",
      "writing morley.egg-info\\PKG-INFO\n",
      "writing dependency_links to morley.egg-info\\dependency_links.txt\n",
      "writing entry points to morley.egg-info\\entry_points.txt\n",
      "writing requirements to morley.egg-info\\requires.txt\n",
      "writing top-level names to morley.egg-info\\top_level.txt\n",
      "reading manifest file 'morley.egg-info\\SOURCES.txt'\n",
      "writing manifest file 'morley.egg-info\\SOURCES.txt'\n",
      "running check\n",
      "creating morley-0.0.1\n",
      "creating morley-0.0.1\\morley\n",
      "creating morley-0.0.1\\morley.egg-info\n",
      "copying files to morley-0.0.1...\n",
      "copying README.md -> morley-0.0.1\n",
      "copying setup.py -> morley-0.0.1\n",
      "copying morley\\Morley.py -> morley-0.0.1\\morley\n",
      "copying morley\\__init__.py -> morley-0.0.1\\morley\n",
      "copying morley\\ethalon.png -> morley-0.0.1\\morley\n",
      "copying morley\\gui.py -> morley-0.0.1\\morley\n",
      "copying morley\\main.py -> morley-0.0.1\\morley\n",
      "copying morley.egg-info\\PKG-INFO -> morley-0.0.1\\morley.egg-info\n",
      "copying morley.egg-info\\SOURCES.txt -> morley-0.0.1\\morley.egg-info\n",
      "copying morley.egg-info\\dependency_links.txt -> morley-0.0.1\\morley.egg-info\n",
      "copying morley.egg-info\\entry_points.txt -> morley-0.0.1\\morley.egg-info\n",
      "copying morley.egg-info\\requires.txt -> morley-0.0.1\\morley.egg-info\n",
      "copying morley.egg-info\\top_level.txt -> morley-0.0.1\\morley.egg-info\n",
      "Writing morley-0.0.1\\setup.cfg\n",
      "Creating tar archive\n",
      "removing 'morley-0.0.1' (and everything under it)\n",
      "running bdist_wheel\n",
      "running build\n",
      "running build_py\n",
      "installing to build\\bdist.win-amd64\\wheel\n",
      "running install\n",
      "running install_lib\n",
      "creating build\\bdist.win-amd64\\wheel\n",
      "creating build\\bdist.win-amd64\\wheel\\morley\n",
      "copying build\\lib\\morley\\ethalon.png -> build\\bdist.win-amd64\\wheel\\.\\morley\n",
      "copying build\\lib\\morley\\gui.py -> build\\bdist.win-amd64\\wheel\\.\\morley\n",
      "copying build\\lib\\morley\\main.py -> build\\bdist.win-amd64\\wheel\\.\\morley\n",
      "copying build\\lib\\morley\\Morley.py -> build\\bdist.win-amd64\\wheel\\.\\morley\n",
      "copying build\\lib\\morley\\__init__.py -> build\\bdist.win-amd64\\wheel\\.\\morley\n",
      "running install_egg_info\n",
      "Copying morley.egg-info to build\\bdist.win-amd64\\wheel\\.\\morley-0.0.1-py3.8.egg-info\n",
      "running install_scripts\n",
      "creating build\\bdist.win-amd64\\wheel\\morley-0.0.1.dist-info\\WHEEL\n",
      "creating 'dist\\morley-0.0.1-py3-none-any.whl' and adding 'build\\bdist.win-amd64\\wheel' to it\n",
      "adding 'morley/Morley.py'\n",
      "adding 'morley/__init__.py'\n",
      "adding 'morley/ethalon.png'\n",
      "adding 'morley/gui.py'\n",
      "adding 'morley/main.py'\n",
      "adding 'morley-0.0.1.dist-info/METADATA'\n",
      "adding 'morley-0.0.1.dist-info/WHEEL'\n",
      "adding 'morley-0.0.1.dist-info/entry_points.txt'\n",
      "adding 'morley-0.0.1.dist-info/top_level.txt'\n",
      "adding 'morley-0.0.1.dist-info/RECORD'\n",
      "removing build\\bdist.win-amd64\\wheel\n"
     ]
    },
    {
     "name": "stderr",
     "output_type": "stream",
     "text": [
      "warning: check: missing required meta-data: url\n",
      "\n"
     ]
    }
   ],
   "source": [
    "!python setup.py sdist bdist_wheel"
   ]
  },
  {
   "cell_type": "code",
   "execution_count": 4,
   "id": "0673554c",
   "metadata": {},
   "outputs": [
    {
     "name": "stdout",
     "output_type": "stream",
     "text": [
      "^C\n",
      "Note: you may need to restart the kernel to use updated packages.\n"
     ]
    }
   ],
   "source": [
    "pip uninstall morley"
   ]
  },
  {
   "cell_type": "code",
   "execution_count": null,
   "id": "b34969fc",
   "metadata": {},
   "outputs": [],
   "source": []
  }
 ],
 "metadata": {
  "kernelspec": {
   "display_name": "Python 3",
   "language": "python",
   "name": "python3"
  },
  "language_info": {
   "codemirror_mode": {
    "name": "ipython",
    "version": 3
   },
   "file_extension": ".py",
   "mimetype": "text/x-python",
   "name": "python",
   "nbconvert_exporter": "python",
   "pygments_lexer": "ipython3",
   "version": "3.8.8"
  }
 },
 "nbformat": 4,
 "nbformat_minor": 5
}
