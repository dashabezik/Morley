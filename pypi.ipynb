{
 "cells": [
  {
   "cell_type": "code",
   "execution_count": 2,
   "id": "bcfb7e05",
   "metadata": {},
   "outputs": [
    {
     "name": "stdout",
     "output_type": "stream",
     "text": [
      "running sdist\n",
      "running egg_info\n",
      "writing morley.egg-info\\PKG-INFO\n",
      "writing dependency_links to morley.egg-info\\dependency_links.txt\n",
      "writing entry points to morley.egg-info\\entry_points.txt\n",
      "writing requirements to morley.egg-info\\requires.txt\n",
      "writing top-level names to morley.egg-info\\top_level.txt\n",
      "reading manifest file 'morley.egg-info\\SOURCES.txt'\n",
      "writing manifest file 'morley.egg-info\\SOURCES.txt'\n",
      "running check\n",
      "creating morley-0.0.3\n",
      "creating morley-0.0.3\\morley\n",
      "creating morley-0.0.3\\morley.egg-info\n",
      "copying files to morley-0.0.3...\n",
      "copying README.md -> morley-0.0.3\n",
      "copying setup.py -> morley-0.0.3\n",
      "copying morley\\Morley.py -> morley-0.0.3\\morley\n",
      "copying morley\\__init__.py -> morley-0.0.3\\morley\n",
      "copying morley\\ethalon.png -> morley-0.0.3\\morley\n",
      "copying morley\\gui.py -> morley-0.0.3\\morley\n",
      "copying morley\\logo.png -> morley-0.0.3\\morley\n",
      "copying morley\\main.py -> morley-0.0.3\\morley\n",
      "copying morley.egg-info\\PKG-INFO -> morley-0.0.3\\morley.egg-info\n",
      "copying morley.egg-info\\SOURCES.txt -> morley-0.0.3\\morley.egg-info\n",
      "copying morley.egg-info\\dependency_links.txt -> morley-0.0.3\\morley.egg-info\n",
      "copying morley.egg-info\\entry_points.txt -> morley-0.0.3\\morley.egg-info\n",
      "copying morley.egg-info\\requires.txt -> morley-0.0.3\\morley.egg-info\n",
      "copying morley.egg-info\\top_level.txt -> morley-0.0.3\\morley.egg-info\n",
      "Writing morley-0.0.3\\setup.cfg\n",
      "Creating tar archive\n",
      "removing 'morley-0.0.3' (and everything under it)\n",
      "running bdist_wheel\n",
      "running build\n",
      "running build_py\n",
      "copying morley\\logo.png -> build\\lib\\morley\n",
      "installing to build\\bdist.win-amd64\\wheel\n",
      "running install\n",
      "running install_lib\n",
      "creating build\\bdist.win-amd64\\wheel\n",
      "creating build\\bdist.win-amd64\\wheel\\morley\n",
      "copying build\\lib\\morley\\ethalon.png -> build\\bdist.win-amd64\\wheel\\.\\morley\n",
      "copying build\\lib\\morley\\gui.py -> build\\bdist.win-amd64\\wheel\\.\\morley\n",
      "copying build\\lib\\morley\\logo.png -> build\\bdist.win-amd64\\wheel\\.\\morley\n",
      "copying build\\lib\\morley\\main.py -> build\\bdist.win-amd64\\wheel\\.\\morley\n"
     ]
    },
    {
     "name": "stderr",
     "output_type": "stream",
     "text": [
      "warning: check: missing required meta-data: url\n",
      "\n"
     ]
    },
    {
     "name": "stdout",
     "output_type": "stream",
     "text": [
      "copying build\\lib\\morley\\Morley.py -> build\\bdist.win-amd64\\wheel\\.\\morley\n",
      "copying build\\lib\\morley\\__init__.py -> build\\bdist.win-amd64\\wheel\\.\\morley\n",
      "running install_egg_info\n",
      "Copying morley.egg-info to build\\bdist.win-amd64\\wheel\\.\\morley-0.0.3-py3.8.egg-info\n",
      "running install_scripts\n",
      "creating build\\bdist.win-amd64\\wheel\\morley-0.0.3.dist-info\\WHEEL\n",
      "creating 'dist\\morley-0.0.3-py3-none-any.whl' and adding 'build\\bdist.win-amd64\\wheel' to it\n",
      "adding 'morley/Morley.py'\n",
      "adding 'morley/__init__.py'\n",
      "adding 'morley/ethalon.png'\n",
      "adding 'morley/gui.py'\n",
      "adding 'morley/logo.png'\n",
      "adding 'morley/main.py'\n",
      "adding 'morley-0.0.3.dist-info/METADATA'\n",
      "adding 'morley-0.0.3.dist-info/WHEEL'\n",
      "adding 'morley-0.0.3.dist-info/entry_points.txt'\n",
      "adding 'morley-0.0.3.dist-info/top_level.txt'\n",
      "adding 'morley-0.0.3.dist-info/RECORD'\n",
      "removing build\\bdist.win-amd64\\wheel\n"
     ]
    }
   ],
   "source": [
    "!python setup.py sdist bdist_wheel"
   ]
  },
  {
   "cell_type": "code",
   "execution_count": 17,
   "id": "b04ad6d9",
   "metadata": {},
   "outputs": [
    {
     "name": "stdout",
     "output_type": "stream",
     "text": [
      "Uploading distributions to https://upload.pypi.org/legacy/\n",
      "Uploading morley-0.0.1-py3-none-any.whl\n",
      "\n",
      "  0% ---------------------------------------- 0.0/106.8 kB • --:-- • ?\n",
      "  0% ---------------------------------------- 0.0/106.8 kB • --:-- • ?\n",
      "  0% ---------------------------------------- 0.0/106.8 kB • --:-- • ?\n",
      "  0% ---------------------------------------- 0.0/106.8 kB • --:-- • ?\n",
      "  0% ---------------------------------------- 0.0/106.8 kB • --:-- • ?\n",
      "  0% ---------------------------------------- 0.0/106.8 kB • --:-- • ?\n",
      " 69% --------------------------- ------------ 73.7/106.8 kB • 00:01 • 4.1 MB/s\n",
      " 69% --------------------------- ------------ 73.7/106.8 kB • 00:01 • 4.1 MB/s\n",
      " 84% -------------------------------- ------ 90.1/106.8 kB • 00:01 • 525.1 kB/s\n",
      "100% -------------------------------------- 106.8/106.8 kB • 00:00 • 315.0 kB/s\n",
      "100% -------------------------------------- 106.8/106.8 kB • 00:00 • 315.0 kB/s\n",
      "100% -------------------------------------- 106.8/106.8 kB • 00:00 • 315.0 kB/s\n",
      "100% -------------------------------------- 106.8/106.8 kB • 00:00 • 315.0 kB/s\n",
      "100% -------------------------------------- 106.8/106.8 kB • 00:00 • 315.0 kB/s\n",
      "100% -------------------------------------- 106.8/106.8 kB • 00:00 • 315.0 kB/s\n",
      "100% -------------------------------------- 106.8/106.8 kB • 00:00 • 315.0 kB/s\n",
      "100% -------------------------------------- 106.8/106.8 kB • 00:00 • 315.0 kB/s\n",
      "100% -------------------------------------- 106.8/106.8 kB • 00:00 • 315.0 kB/s\n",
      "100% -------------------------------------- 106.8/106.8 kB • 00:00 • 315.0 kB/s\n",
      "100% -------------------------------------- 106.8/106.8 kB • 00:00 • 315.0 kB/s\n",
      "100% -------------------------------------- 106.8/106.8 kB • 00:00 • 315.0 kB/s\n",
      "100% -------------------------------------- 106.8/106.8 kB • 00:00 • 315.0 kB/s\n",
      "100% -------------------------------------- 106.8/106.8 kB • 00:00 • 315.0 kB/s\n",
      "100% -------------------------------------- 106.8/106.8 kB • 00:00 • 315.0 kB/s\n",
      "100% -------------------------------------- 106.8/106.8 kB • 00:00 • 315.0 kB/s\n",
      "100% -------------------------------------- 106.8/106.8 kB • 00:00 • 315.0 kB/s\n",
      "100% -------------------------------------- 106.8/106.8 kB • 00:00 • 315.0 kB/s\n",
      "Uploading morley-0.0.1.tar.gz\n",
      "\n",
      "  0% ---------------------------------------- 0.0/107.8 kB • --:-- • ?\n",
      "100% ---------------------------------------- 107.8/107.8 kB • 00:00 • 6.6 MB/s\n",
      "100% ---------------------------------------- 107.8/107.8 kB • 00:00 • 6.6 MB/s\n",
      "100% ---------------------------------------- 107.8/107.8 kB • 00:00 • 6.6 MB/s\n",
      "100% ---------------------------------------- 107.8/107.8 kB • 00:00 • 6.6 MB/s\n",
      "100% ---------------------------------------- 107.8/107.8 kB • 00:00 • 6.6 MB/s\n",
      "100% ---------------------------------------- 107.8/107.8 kB • 00:00 • 6.6 MB/s\n",
      "100% ---------------------------------------- 107.8/107.8 kB • 00:00 • 6.6 MB/s\n",
      "100% ---------------------------------------- 107.8/107.8 kB • 00:00 • 6.6 MB/s\n",
      "100% ---------------------------------------- 107.8/107.8 kB • 00:00 • 6.6 MB/s\n",
      "100% ---------------------------------------- 107.8/107.8 kB • 00:00 • 6.6 MB/s\n",
      "100% ---------------------------------------- 107.8/107.8 kB • 00:00 • 6.6 MB/s\n",
      "100% ---------------------------------------- 107.8/107.8 kB • 00:00 • 6.6 MB/s\n",
      "100% ---------------------------------------- 107.8/107.8 kB • 00:00 • 6.6 MB/s\n",
      "100% ---------------------------------------- 107.8/107.8 kB • 00:00 • 6.6 MB/s\n",
      "100% ---------------------------------------- 107.8/107.8 kB • 00:00 • 6.6 MB/s\n",
      "100% ---------------------------------------- 107.8/107.8 kB • 00:00 • 6.6 MB/s\n",
      "100% ---------------------------------------- 107.8/107.8 kB • 00:00 • 6.6 MB/s\n",
      "100% ---------------------------------------- 107.8/107.8 kB • 00:00 • 6.6 MB/s\n",
      "100% ---------------------------------------- 107.8/107.8 kB • 00:00 • 6.6 MB/s\n",
      "100% ---------------------------------------- 107.8/107.8 kB • 00:00 • 6.6 MB/s\n",
      "100% ---------------------------------------- 107.8/107.8 kB • 00:00 • 6.6 MB/s\n",
      "100% ---------------------------------------- 107.8/107.8 kB • 00:00 • 6.6 MB/s\n",
      "100% ---------------------------------------- 107.8/107.8 kB • 00:00 • 6.6 MB/s\n",
      "100% ---------------------------------------- 107.8/107.8 kB • 00:00 • 6.6 MB/s\n",
      "100% ---------------------------------------- 107.8/107.8 kB • 00:00 • 6.6 MB/s\n",
      "100% ---------------------------------------- 107.8/107.8 kB • 00:00 • 6.6 MB/s\n",
      "100% ---------------------------------------- 107.8/107.8 kB • 00:00 • 6.6 MB/s\n",
      "100% ---------------------------------------- 107.8/107.8 kB • 00:00 • 6.6 MB/s\n",
      "100% ---------------------------------------- 107.8/107.8 kB • 00:00 • 6.6 MB/s\n",
      "\n",
      "View at:\n",
      "https://pypi.org/project/morley/0.0.1/\n"
     ]
    }
   ],
   "source": [
    "!twine upload dist/*"
   ]
  },
  {
   "cell_type": "code",
   "execution_count": 14,
   "id": "d4402eec",
   "metadata": {},
   "outputs": [
    {
     "name": "stdout",
     "output_type": "stream",
     "text": [
      "Collecting twineNote: you may need to restart the kernel to use updated packages.\n",
      "\n",
      "  Downloading twine-4.0.1-py3-none-any.whl (36 kB)\n",
      "Requirement already satisfied: urllib3>=1.26.0 in c:\\users\\dasha\\anaconda3\\lib\\site-packages (from twine) (1.26.4)\n",
      "Requirement already satisfied: keyring>=15.1 in c:\\users\\dasha\\anaconda3\\lib\\site-packages (from twine) (22.3.0)\n",
      "Collecting rfc3986>=1.4.0\n",
      "  Downloading rfc3986-2.0.0-py2.py3-none-any.whl (31 kB)\n",
      "Requirement already satisfied: requests>=2.20 in c:\\users\\dasha\\anaconda3\\lib\\site-packages (from twine) (2.25.1)\n",
      "Collecting rich>=12.0.0\n",
      "  Downloading rich-12.6.0-py3-none-any.whl (237 kB)\n",
      "Collecting readme-renderer>=35.0\n",
      "  Downloading readme_renderer-37.3-py3-none-any.whl (14 kB)\n",
      "Collecting pkginfo>=1.8.1\n",
      "  Downloading pkginfo-1.8.3-py2.py3-none-any.whl (26 kB)\n",
      "Requirement already satisfied: importlib-metadata>=3.6 in c:\\users\\dasha\\anaconda3\\lib\\site-packages (from twine) (3.10.0)\n",
      "Collecting requests-toolbelt!=0.9.0,>=0.8.0\n",
      "  Downloading requests_toolbelt-0.10.1-py2.py3-none-any.whl (54 kB)\n",
      "Requirement already satisfied: zipp>=0.5 in c:\\users\\dasha\\anaconda3\\lib\\site-packages (from importlib-metadata>=3.6->twine) (3.4.1)\n",
      "Requirement already satisfied: pywin32-ctypes!=0.1.0,!=0.1.1 in c:\\users\\dasha\\anaconda3\\lib\\site-packages (from keyring>=15.1->twine) (0.2.0)\n",
      "Requirement already satisfied: bleach>=2.1.0 in c:\\users\\dasha\\anaconda3\\lib\\site-packages (from readme-renderer>=35.0->twine) (3.3.0)\n",
      "Requirement already satisfied: docutils>=0.13.1 in c:\\users\\dasha\\anaconda3\\lib\\site-packages (from readme-renderer>=35.0->twine) (0.17)\n",
      "Requirement already satisfied: Pygments>=2.5.1 in c:\\users\\dasha\\anaconda3\\lib\\site-packages (from readme-renderer>=35.0->twine) (2.8.1)\n",
      "Requirement already satisfied: packaging in c:\\users\\dasha\\anaconda3\\lib\\site-packages (from bleach>=2.1.0->readme-renderer>=35.0->twine) (20.9)\n",
      "Requirement already satisfied: six>=1.9.0 in c:\\users\\dasha\\anaconda3\\lib\\site-packages (from bleach>=2.1.0->readme-renderer>=35.0->twine) (1.15.0)\n",
      "Requirement already satisfied: webencodings in c:\\users\\dasha\\anaconda3\\lib\\site-packages (from bleach>=2.1.0->readme-renderer>=35.0->twine) (0.5.1)\n",
      "Requirement already satisfied: idna<3,>=2.5 in c:\\users\\dasha\\anaconda3\\lib\\site-packages (from requests>=2.20->twine) (2.10)\n",
      "Requirement already satisfied: certifi>=2017.4.17 in c:\\users\\dasha\\anaconda3\\lib\\site-packages (from requests>=2.20->twine) (2020.12.5)\n",
      "Requirement already satisfied: chardet<5,>=3.0.2 in c:\\users\\dasha\\anaconda3\\lib\\site-packages (from requests>=2.20->twine) (4.0.0)\n",
      "Collecting commonmark<0.10.0,>=0.9.0\n",
      "  Downloading commonmark-0.9.1-py2.py3-none-any.whl (51 kB)\n",
      "Collecting typing-extensions<5.0,>=4.0.0\n",
      "  Downloading typing_extensions-4.4.0-py3-none-any.whl (26 kB)\n",
      "Requirement already satisfied: pyparsing>=2.0.2 in c:\\users\\dasha\\anaconda3\\lib\\site-packages (from packaging->bleach>=2.1.0->readme-renderer>=35.0->twine) (2.4.7)\n",
      "Installing collected packages: typing-extensions, commonmark, rich, rfc3986, requests-toolbelt, readme-renderer, pkginfo, twine\n",
      "  Attempting uninstall: typing-extensions\n",
      "    Found existing installation: typing-extensions 3.7.4.3\n",
      "    Uninstalling typing-extensions-3.7.4.3:\n",
      "      Successfully uninstalled typing-extensions-3.7.4.3\n",
      "  Attempting uninstall: pkginfo\n",
      "    Found existing installation: pkginfo 1.7.0\n",
      "    Uninstalling pkginfo-1.7.0:\n",
      "      Successfully uninstalled pkginfo-1.7.0\n",
      "Successfully installed commonmark-0.9.1 pkginfo-1.8.3 readme-renderer-37.3 requests-toolbelt-0.10.1 rfc3986-2.0.0 rich-12.6.0 twine-4.0.1 typing-extensions-4.4.0\n"
     ]
    }
   ],
   "source": [
    "pip install twine"
   ]
  },
  {
   "cell_type": "code",
   "execution_count": null,
   "id": "7b0e982d",
   "metadata": {},
   "outputs": [],
   "source": []
  }
 ],
 "metadata": {
  "kernelspec": {
   "display_name": "Python 3",
   "language": "python",
   "name": "python3"
  },
  "language_info": {
   "codemirror_mode": {
    "name": "ipython",
    "version": 3
   },
   "file_extension": ".py",
   "mimetype": "text/x-python",
   "name": "python",
   "nbconvert_exporter": "python",
   "pygments_lexer": "ipython3",
   "version": "3.8.8"
  }
 },
 "nbformat": 4,
 "nbformat_minor": 5
}
